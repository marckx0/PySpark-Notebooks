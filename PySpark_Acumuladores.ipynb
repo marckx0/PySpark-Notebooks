{
 "cells": [
  {
   "cell_type": "code",
   "execution_count": 1,
   "metadata": {},
   "outputs": [],
   "source": [
    "import pyspark\n",
    "from pyspark.sql import SparkSession\n",
    "spark = SparkSession.builder.master(\"local[1]\") \\\n",
    "                    .appName('Acumuladores') \\\n",
    "                    .getOrCreate()"
   ]
  },
  {
   "cell_type": "code",
   "execution_count": 2,
   "metadata": {},
   "outputs": [],
   "source": [
    "SpContext = spark.sparkContext"
   ]
  },
  {
   "cell_type": "markdown",
   "metadata": {},
   "source": [
    "#### Carga de Datos"
   ]
  },
  {
   "cell_type": "code",
   "execution_count": 3,
   "metadata": {},
   "outputs": [
    {
     "data": {
      "text/plain": [
       "auto-data.csv MapPartitionsRDD[1] at textFile at NativeMethodAccessorImpl.java:0"
      ]
     },
     "execution_count": 3,
     "metadata": {},
     "output_type": "execute_result"
    }
   ],
   "source": [
    "inputPath = \"auto-data.csv\"\n",
    "autoData = SpContext.textFile(inputPath)\n",
    "autoData.cache()"
   ]
  },
  {
   "cell_type": "markdown",
   "metadata": {},
   "source": [
    "#### Trabajar con RDD de clave / valor"
   ]
  },
  {
   "cell_type": "code",
   "execution_count": 4,
   "metadata": {},
   "outputs": [
    {
     "name": "stdout",
     "output_type": "stream",
     "text": [
      "('MAKE', 'HP')\n",
      "('subaru', '69')\n",
      "('chevrolet', '48')\n",
      "('mazda', '68')\n",
      "('toyota', '62')\n"
     ]
    }
   ],
   "source": [
    "cylData = autoData.map(lambda x: (x.split(\",\")[0],x.split(\",\")[7]))\n",
    "for i in cylData.take(5):\n",
    "    print(i)"
   ]
  },
  {
   "cell_type": "code",
   "execution_count": 5,
   "metadata": {},
   "outputs": [
    {
     "data": {
      "text/plain": [
       "['MAKE',\n",
       " 'subaru',\n",
       " 'chevrolet',\n",
       " 'mazda',\n",
       " 'toyota',\n",
       " 'mitsubishi',\n",
       " 'honda',\n",
       " 'nissan',\n",
       " 'dodge',\n",
       " 'plymouth',\n",
       " 'mazda',\n",
       " 'mitsubishi',\n",
       " 'dodge',\n",
       " 'plymouth',\n",
       " 'chevrolet',\n",
       " 'toyota',\n",
       " 'dodge',\n",
       " 'honda',\n",
       " 'toyota',\n",
       " 'honda',\n",
       " 'chevrolet',\n",
       " 'nissan',\n",
       " 'mitsubishi',\n",
       " 'dodge',\n",
       " 'plymouth',\n",
       " 'mazda',\n",
       " 'isuzu',\n",
       " 'mazda',\n",
       " 'nissan',\n",
       " 'honda',\n",
       " 'toyota',\n",
       " 'toyota',\n",
       " 'mitsubishi',\n",
       " 'subaru',\n",
       " 'nissan',\n",
       " 'subaru',\n",
       " 'honda',\n",
       " 'toyota',\n",
       " 'honda',\n",
       " 'honda',\n",
       " 'nissan',\n",
       " 'nissan',\n",
       " 'mazda',\n",
       " 'subaru',\n",
       " 'nissan',\n",
       " 'subaru',\n",
       " 'dodge',\n",
       " 'plymouth',\n",
       " 'mitsubishi',\n",
       " 'toyota',\n",
       " 'subaru',\n",
       " 'volkswagen',\n",
       " 'toyota',\n",
       " 'nissan',\n",
       " 'honda',\n",
       " 'toyota',\n",
       " 'toyota',\n",
       " 'dodge',\n",
       " 'plymouth',\n",
       " 'volkswagen',\n",
       " 'volkswagen',\n",
       " 'nissan',\n",
       " 'subaru',\n",
       " 'toyota',\n",
       " 'mitsubishi',\n",
       " 'volkswagen',\n",
       " 'toyota',\n",
       " 'nissan',\n",
       " 'toyota',\n",
       " 'toyota',\n",
       " 'mazda',\n",
       " 'volkswagen',\n",
       " 'mitsubishi',\n",
       " 'toyota',\n",
       " 'honda',\n",
       " 'mazda',\n",
       " 'dodge',\n",
       " 'plymouth',\n",
       " 'toyota',\n",
       " 'nissan',\n",
       " 'honda',\n",
       " 'subaru',\n",
       " 'toyota',\n",
       " 'mitsubishi',\n",
       " 'mitsubishi',\n",
       " 'toyota',\n",
       " 'volkswagen',\n",
       " 'toyota',\n",
       " 'nissan',\n",
       " 'toyota',\n",
       " 'mitsubishi',\n",
       " 'subaru',\n",
       " 'volkswagen',\n",
       " 'toyota',\n",
       " 'toyota',\n",
       " 'volkswagen',\n",
       " 'subaru',\n",
       " 'mazda',\n",
       " 'honda',\n",
       " 'honda',\n",
       " 'mazda',\n",
       " 'toyota',\n",
       " 'toyota',\n",
       " 'mazda',\n",
       " 'isuzu',\n",
       " 'toyota',\n",
       " 'mazda',\n",
       " 'toyota',\n",
       " 'subaru',\n",
       " 'toyota',\n",
       " 'volkswagen',\n",
       " 'subaru',\n",
       " 'mazda',\n",
       " 'saab',\n",
       " 'peugot',\n",
       " 'saab',\n",
       " 'volkswagen',\n",
       " 'peugot',\n",
       " 'mitsubishi',\n",
       " 'plymouth',\n",
       " 'volvo',\n",
       " 'honda',\n",
       " 'dodge',\n",
       " 'peugot',\n",
       " 'volkswagen',\n",
       " 'volvo',\n",
       " 'alfa-romero',\n",
       " 'nissan',\n",
       " 'nissan',\n",
       " 'mazda',\n",
       " 'volkswagen',\n",
       " 'peugot',\n",
       " 'audi',\n",
       " 'nissan',\n",
       " 'mitsubishi',\n",
       " 'mitsubishi',\n",
       " 'saab',\n",
       " 'audi',\n",
       " 'saab',\n",
       " 'peugot',\n",
       " 'mazda',\n",
       " 'toyota',\n",
       " 'toyota',\n",
       " 'volvo',\n",
       " 'toyota',\n",
       " 'bmw',\n",
       " 'alfa-romero',\n",
       " 'alfa-romero',\n",
       " 'mercury',\n",
       " 'volvo',\n",
       " 'toyota',\n",
       " 'peugot',\n",
       " 'peugot',\n",
       " 'volvo',\n",
       " 'peugot',\n",
       " 'bmw',\n",
       " 'peugot',\n",
       " 'nissan',\n",
       " 'audi',\n",
       " 'toyota',\n",
       " 'audi',\n",
       " 'peugot',\n",
       " 'peugot',\n",
       " 'saab',\n",
       " 'mazda',\n",
       " 'mazda',\n",
       " 'nissan',\n",
       " 'volvo',\n",
       " 'saab',\n",
       " 'audi',\n",
       " 'volvo',\n",
       " 'volvo',\n",
       " 'nissan',\n",
       " 'bmw',\n",
       " 'bmw',\n",
       " 'volvo',\n",
       " 'porsche',\n",
       " 'volvo',\n",
       " 'volvo',\n",
       " 'audi',\n",
       " 'bmw',\n",
       " 'mercedes-benz',\n",
       " 'mercedes-benz',\n",
       " 'mercedes-benz',\n",
       " 'bmw',\n",
       " 'mercedes-benz',\n",
       " 'jaguar',\n",
       " 'porsche',\n",
       " 'porsche',\n",
       " 'mercedes-benz',\n",
       " 'mercedes-benz',\n",
       " 'jaguar',\n",
       " 'jaguar',\n",
       " 'bmw',\n",
       " 'porsche',\n",
       " 'mercedes-benz',\n",
       " 'bmw',\n",
       " 'mercedes-benz']"
      ]
     },
     "execution_count": 5,
     "metadata": {},
     "output_type": "execute_result"
    }
   ],
   "source": [
    "cylData.keys().collect()"
   ]
  },
  {
   "cell_type": "code",
   "execution_count": 6,
   "metadata": {},
   "outputs": [],
   "source": [
    "# Eliminar fila del encabezado\n",
    "header = cylData.first()\n",
    "cylHPData = cylData.filter(lambda x: x!=header)"
   ]
  },
  {
   "cell_type": "code",
   "execution_count": 7,
   "metadata": {},
   "outputs": [
    {
     "data": {
      "text/plain": [
       "[('subaru', ('69', 1)),\n",
       " ('chevrolet', ('48', 1)),\n",
       " ('mazda', ('68', 1)),\n",
       " ('toyota', ('62', 1)),\n",
       " ('mitsubishi', ('68', 1)),\n",
       " ('honda', ('60', 1)),\n",
       " ('nissan', ('69', 1)),\n",
       " ('dodge', ('68', 1)),\n",
       " ('plymouth', ('68', 1)),\n",
       " ('mazda', ('68', 1)),\n",
       " ('mitsubishi', ('68', 1)),\n",
       " ('dodge', ('68', 1)),\n",
       " ('plymouth', ('68', 1)),\n",
       " ('chevrolet', ('70', 1)),\n",
       " ('toyota', ('62', 1)),\n",
       " ('dodge', ('68', 1)),\n",
       " ('honda', ('58', 1)),\n",
       " ('toyota', ('62', 1)),\n",
       " ('honda', ('76', 1)),\n",
       " ('chevrolet', ('70', 1)),\n",
       " ('nissan', ('69', 1)),\n",
       " ('mitsubishi', ('68', 1)),\n",
       " ('dodge', ('68', 1)),\n",
       " ('plymouth', ('68', 1)),\n",
       " ('mazda', ('68', 1)),\n",
       " ('isuzu', ('78', 1)),\n",
       " ('mazda', ('68', 1)),\n",
       " ('nissan', ('69', 1)),\n",
       " ('honda', ('76', 1)),\n",
       " ('toyota', ('62', 1)),\n",
       " ('toyota', ('70', 1)),\n",
       " ('mitsubishi', ('88', 1)),\n",
       " ('subaru', ('73', 1)),\n",
       " ('nissan', ('55', 1)),\n",
       " ('subaru', ('82', 1)),\n",
       " ('honda', ('76', 1)),\n",
       " ('toyota', ('70', 1)),\n",
       " ('honda', ('76', 1)),\n",
       " ('honda', ('76', 1)),\n",
       " ('nissan', ('69', 1)),\n",
       " ('nissan', ('69', 1)),\n",
       " ('mazda', ('68', 1)),\n",
       " ('subaru', ('82', 1)),\n",
       " ('nissan', ('69', 1)),\n",
       " ('subaru', ('73', 1)),\n",
       " ('dodge', ('68', 1)),\n",
       " ('plymouth', ('68', 1)),\n",
       " ('mitsubishi', ('102', 1)),\n",
       " ('toyota', ('70', 1)),\n",
       " ('subaru', ('82', 1)),\n",
       " ('volkswagen', ('52', 1)),\n",
       " ('toyota', ('56', 1)),\n",
       " ('nissan', ('69', 1)),\n",
       " ('honda', ('86', 1)),\n",
       " ('toyota', ('62', 1)),\n",
       " ('toyota', ('56', 1)),\n",
       " ('dodge', ('102', 1)),\n",
       " ('plymouth', ('102', 1)),\n",
       " ('volkswagen', ('85', 1)),\n",
       " ('volkswagen', ('52', 1)),\n",
       " ('nissan', ('69', 1)),\n",
       " ('subaru', ('82', 1)),\n",
       " ('toyota', ('70', 1)),\n",
       " ('mitsubishi', ('88', 1)),\n",
       " ('volkswagen', ('85', 1)),\n",
       " ('toyota', ('70', 1)),\n",
       " ('nissan', ('69', 1)),\n",
       " ('toyota', ('70', 1)),\n",
       " ('toyota', ('116', 1)),\n",
       " ('mazda', ('84', 1)),\n",
       " ('volkswagen', ('85', 1)),\n",
       " ('mitsubishi', ('88', 1)),\n",
       " ('toyota', ('62', 1)),\n",
       " ('honda', ('86', 1)),\n",
       " ('mazda', ('84', 1)),\n",
       " ('dodge', ('88', 1)),\n",
       " ('plymouth', ('88', 1)),\n",
       " ('toyota', ('92', 1)),\n",
       " ('nissan', ('97', 1)),\n",
       " ('honda', ('86', 1)),\n",
       " ('subaru', ('82', 1)),\n",
       " ('toyota', ('70', 1)),\n",
       " ('mitsubishi', ('116', 1)),\n",
       " ('mitsubishi', ('116', 1)),\n",
       " ('toyota', ('112', 1)),\n",
       " ('volkswagen', ('68', 1)),\n",
       " ('toyota', ('112', 1)),\n",
       " ('nissan', ('97', 1)),\n",
       " ('toyota', ('116', 1)),\n",
       " ('mitsubishi', ('116', 1)),\n",
       " ('subaru', ('94', 1)),\n",
       " ('volkswagen', ('90', 1)),\n",
       " ('toyota', ('92', 1)),\n",
       " ('toyota', ('116', 1)),\n",
       " ('volkswagen', ('100', 1)),\n",
       " ('subaru', ('94', 1)),\n",
       " ('mazda', ('84', 1)),\n",
       " ('honda', ('86', 1)),\n",
       " ('honda', ('100', 1)),\n",
       " ('mazda', ('84', 1)),\n",
       " ('toyota', ('73', 1)),\n",
       " ('toyota', ('92', 1)),\n",
       " ('mazda', ('101', 1)),\n",
       " ('isuzu', ('90', 1)),\n",
       " ('toyota', ('116', 1)),\n",
       " ('mazda', ('84', 1)),\n",
       " ('toyota', ('92', 1)),\n",
       " ('subaru', ('111', 1)),\n",
       " ('toyota', ('116', 1)),\n",
       " ('volkswagen', ('90', 1)),\n",
       " ('subaru', ('111', 1)),\n",
       " ('mazda', ('101', 1)),\n",
       " ('saab', ('110', 1)),\n",
       " ('peugot', ('97', 1)),\n",
       " ('saab', ('110', 1)),\n",
       " ('volkswagen', ('88', 1)),\n",
       " ('peugot', ('97', 1)),\n",
       " ('mitsubishi', ('145', 1)),\n",
       " ('plymouth', ('145', 1)),\n",
       " ('volvo', ('114', 1)),\n",
       " ('honda', ('101', 1)),\n",
       " ('dodge', ('145', 1)),\n",
       " ('peugot', ('95', 1)),\n",
       " ('volkswagen', ('110', 1)),\n",
       " ('volvo', ('114', 1)),\n",
       " ('alfa-romero', ('111', 1)),\n",
       " ('nissan', ('152', 1)),\n",
       " ('nissan', ('152', 1)),\n",
       " ('mazda', ('101', 1)),\n",
       " ('volkswagen', ('68', 1)),\n",
       " ('peugot', ('95', 1)),\n",
       " ('audi', ('102', 1)),\n",
       " ('nissan', ('152', 1)),\n",
       " ('mitsubishi', ('145', 1)),\n",
       " ('mitsubishi', ('145', 1)),\n",
       " ('saab', ('110', 1)),\n",
       " ('audi', ('110', 1)),\n",
       " ('saab', ('110', 1)),\n",
       " ('peugot', ('95', 1)),\n",
       " ('mazda', ('135', 1)),\n",
       " ('toyota', ('156', 1)),\n",
       " ('toyota', ('156', 1)),\n",
       " ('volvo', ('114', 1)),\n",
       " ('toyota', ('161', 1)),\n",
       " ('bmw', ('101', 1)),\n",
       " ('alfa-romero', ('111', 1)),\n",
       " ('alfa-romero', ('154', 1)),\n",
       " ('mercury', ('175', 1)),\n",
       " ('volvo', ('114', 1)),\n",
       " ('toyota', ('161', 1)),\n",
       " ('peugot', ('97', 1)),\n",
       " ('peugot', ('95', 1)),\n",
       " ('volvo', ('114', 1)),\n",
       " ('peugot', ('95', 1)),\n",
       " ('bmw', ('101', 1)),\n",
       " ('peugot', ('95', 1)),\n",
       " ('nissan', ('160', 1)),\n",
       " ('audi', ('115', 1)),\n",
       " ('toyota', ('116', 1)),\n",
       " ('audi', ('110', 1)),\n",
       " ('peugot', ('95', 1)),\n",
       " ('peugot', ('142', 1)),\n",
       " ('saab', ('160', 1)),\n",
       " ('mazda', ('120', 1)),\n",
       " ('mazda', ('72', 1)),\n",
       " ('nissan', ('160', 1)),\n",
       " ('volvo', ('162', 1)),\n",
       " ('saab', ('160', 1)),\n",
       " ('audi', ('110', 1)),\n",
       " ('volvo', ('162', 1)),\n",
       " ('volvo', ('160', 1)),\n",
       " ('nissan', ('200', 1)),\n",
       " ('bmw', ('121', 1)),\n",
       " ('bmw', ('121', 1)),\n",
       " ('volvo', ('134', 1)),\n",
       " ('porsche', ('143', 1)),\n",
       " ('volvo', ('106', 1)),\n",
       " ('volvo', ('114', 1)),\n",
       " ('audi', ('140', 1)),\n",
       " ('bmw', ('121', 1)),\n",
       " ('mercedes-benz', ('123', 1)),\n",
       " ('mercedes-benz', ('123', 1)),\n",
       " ('mercedes-benz', ('123', 1)),\n",
       " ('bmw', ('182', 1)),\n",
       " ('mercedes-benz', ('123', 1)),\n",
       " ('jaguar', ('176', 1)),\n",
       " ('porsche', ('207', 1)),\n",
       " ('porsche', ('207', 1)),\n",
       " ('mercedes-benz', ('155', 1)),\n",
       " ('mercedes-benz', ('155', 1)),\n",
       " ('jaguar', ('176', 1)),\n",
       " ('jaguar', ('262', 1)),\n",
       " ('bmw', ('182', 1)),\n",
       " ('porsche', ('207', 1)),\n",
       " ('mercedes-benz', ('184', 1)),\n",
       " ('bmw', ('182', 1)),\n",
       " ('mercedes-benz', ('184', 1))]"
      ]
     },
     "execution_count": 7,
     "metadata": {},
     "output_type": "execute_result"
    }
   ],
   "source": [
    "# Encuentre HP promedio por marca\n",
    "addOne = cylHPData.mapValues(lambda x: (x,1))\n",
    "addOne.collect()"
   ]
  },
  {
   "cell_type": "code",
   "execution_count": 8,
   "metadata": {},
   "outputs": [
    {
     "data": {
      "text/plain": [
       "[('chevrolet', (188, 3)),\n",
       " ('mazda', (1390, 16)),\n",
       " ('mitsubishi', (1353, 13)),\n",
       " ('nissan', (1846, 18)),\n",
       " ('dodge', (675, 8)),\n",
       " ('plymouth', (607, 7)),\n",
       " ('saab', (760, 6)),\n",
       " ('volvo', (1408, 11)),\n",
       " ('alfa-romero', (376, 3)),\n",
       " ('mercedes-benz', (1170, 8)),\n",
       " ('jaguar', (614, 3)),\n",
       " ('subaru', (1035, 12)),\n",
       " ('toyota', (2969, 32)),\n",
       " ('honda', (1043, 13)),\n",
       " ('isuzu', (168, 2)),\n",
       " ('volkswagen', (973, 12)),\n",
       " ('peugot', (1098, 11)),\n",
       " ('audi', (687, 6)),\n",
       " ('bmw', (1111, 8)),\n",
       " ('mercury', ('175', 1)),\n",
       " ('porsche', (764, 4))]"
      ]
     },
     "execution_count": 8,
     "metadata": {},
     "output_type": "execute_result"
    }
   ],
   "source": [
    "brandValues = addOne\\\n",
    "    .reduceByKey(lambda x,y: (int(x[0])+int(y[0]), int(x[1])+int(y[1])))\n",
    "brandValues.collect()"
   ]
  },
  {
   "cell_type": "code",
   "execution_count": 9,
   "metadata": {},
   "outputs": [],
   "source": [
    "promedio = brandValues.mapValues(lambda x: int(x[0])/int(x[1])).collect()"
   ]
  },
  {
   "cell_type": "code",
   "execution_count": 10,
   "metadata": {},
   "outputs": [
    {
     "data": {
      "text/plain": [
       "[('chevrolet', 62.666666666666664),\n",
       " ('mazda', 86.875),\n",
       " ('mitsubishi', 104.07692307692308),\n",
       " ('nissan', 102.55555555555556),\n",
       " ('dodge', 84.375),\n",
       " ('plymouth', 86.71428571428571),\n",
       " ('saab', 126.66666666666667),\n",
       " ('volvo', 128.0),\n",
       " ('alfa-romero', 125.33333333333333),\n",
       " ('mercedes-benz', 146.25),\n",
       " ('jaguar', 204.66666666666666),\n",
       " ('subaru', 86.25),\n",
       " ('toyota', 92.78125),\n",
       " ('honda', 80.23076923076923),\n",
       " ('isuzu', 84.0),\n",
       " ('volkswagen', 81.08333333333333),\n",
       " ('peugot', 99.81818181818181),\n",
       " ('audi', 114.5),\n",
       " ('bmw', 138.875),\n",
       " ('mercury', 175.0),\n",
       " ('porsche', 191.0)]"
      ]
     },
     "execution_count": 10,
     "metadata": {},
     "output_type": "execute_result"
    }
   ],
   "source": [
    "promedio"
   ]
  },
  {
   "cell_type": "code",
   "execution_count": 11,
   "metadata": {},
   "outputs": [
    {
     "data": {
      "text/plain": [
       "[('chevrolet', 62.666666666666664),\n",
       " ('honda', 80.23076923076923),\n",
       " ('volkswagen', 81.08333333333333),\n",
       " ('isuzu', 84.0),\n",
       " ('dodge', 84.375),\n",
       " ('subaru', 86.25),\n",
       " ('plymouth', 86.71428571428571),\n",
       " ('mazda', 86.875),\n",
       " ('toyota', 92.78125),\n",
       " ('peugot', 99.81818181818181),\n",
       " ('nissan', 102.55555555555556),\n",
       " ('mitsubishi', 104.07692307692308),\n",
       " ('audi', 114.5),\n",
       " ('alfa-romero', 125.33333333333333),\n",
       " ('saab', 126.66666666666667),\n",
       " ('volvo', 128.0),\n",
       " ('bmw', 138.875),\n",
       " ('mercedes-benz', 146.25),\n",
       " ('mercury', 175.0),\n",
       " ('porsche', 191.0),\n",
       " ('jaguar', 204.66666666666666)]"
      ]
     },
     "execution_count": 11,
     "metadata": {},
     "output_type": "execute_result"
    }
   ],
   "source": [
    "brandValues.mapValues(lambda x: int(x[0])/int(x[1])).sortBy(lambda x: x[1]).collect()"
   ]
  },
  {
   "cell_type": "markdown",
   "metadata": {},
   "source": [
    "#### Acumuladores y variables de difusión (broadcast)"
   ]
  },
  {
   "cell_type": "code",
   "execution_count": 12,
   "metadata": {},
   "outputs": [],
   "source": [
    "sedanCount = SpContext.accumulator(0)\n",
    "hatchbackCount = SpContext.accumulator(0)"
   ]
  },
  {
   "cell_type": "code",
   "execution_count": 13,
   "metadata": {},
   "outputs": [
    {
     "name": "stdout",
     "output_type": "stream",
     "text": [
      "sedanCount:  0\n",
      "hatchbackCount:  0\n"
     ]
    }
   ],
   "source": [
    "print(\"sedanCount: \",sedanCount)\n",
    "print(\"hatchbackCount: \",hatchbackCount)"
   ]
  },
  {
   "cell_type": "code",
   "execution_count": 14,
   "metadata": {},
   "outputs": [],
   "source": [
    "sedanText = SpContext.broadcast(\"sedan\")\n",
    "hatchbackText = SpContext.broadcast(\"hatchback\")"
   ]
  },
  {
   "cell_type": "code",
   "execution_count": 15,
   "metadata": {},
   "outputs": [],
   "source": [
    "def splitLines(line):\n",
    "    \n",
    "    global sedanCount\n",
    "    global hatchbackCount\n",
    "    \n",
    "    if sedanText.value in line:\n",
    "        sedanCount+=1\n",
    "    if hatchbackText.value in line:\n",
    "        hatchbackCount+=1\n",
    "        \n",
    "    return line.split(\",\")"
   ]
  },
  {
   "cell_type": "code",
   "execution_count": 16,
   "metadata": {},
   "outputs": [
    {
     "data": {
      "text/plain": [
       "[['MAKE',\n",
       "  'FUELTYPE',\n",
       "  'ASPIRE',\n",
       "  'DOORS',\n",
       "  'BODY',\n",
       "  'DRIVE',\n",
       "  'CYLINDERS',\n",
       "  'HP',\n",
       "  'RPM',\n",
       "  'MPG-CITY',\n",
       "  'MPG-HWY',\n",
       "  'PRICE'],\n",
       " ['subaru',\n",
       "  'gas',\n",
       "  'std',\n",
       "  'two',\n",
       "  'hatchback',\n",
       "  'fwd',\n",
       "  'four',\n",
       "  '69',\n",
       "  '4900',\n",
       "  '31',\n",
       "  '36',\n",
       "  '5118'],\n",
       " ['chevrolet',\n",
       "  'gas',\n",
       "  'std',\n",
       "  'two',\n",
       "  'hatchback',\n",
       "  'fwd',\n",
       "  'three',\n",
       "  '48',\n",
       "  '5100',\n",
       "  '47',\n",
       "  '53',\n",
       "  '5151']]"
      ]
     },
     "execution_count": 16,
     "metadata": {},
     "output_type": "execute_result"
    }
   ],
   "source": [
    "splitData = autoData.map(splitLines)\n",
    "splitData.take(3)"
   ]
  },
  {
   "cell_type": "code",
   "execution_count": 17,
   "metadata": {},
   "outputs": [
    {
     "name": "stdout",
     "output_type": "stream",
     "text": [
      "splitData.count():  198\n",
      "sedanCount:  92\n",
      "hatchbackCount:  69\n"
     ]
    }
   ],
   "source": [
    "print(\"splitData.count(): \",splitData.count())\n",
    "print(\"sedanCount: \",sedanCount)\n",
    "print(\"hatchbackCount: \",hatchbackCount)"
   ]
  },
  {
   "cell_type": "markdown",
   "metadata": {},
   "source": [
    "#### Particiones"
   ]
  },
  {
   "cell_type": "code",
   "execution_count": 18,
   "metadata": {},
   "outputs": [
    {
     "name": "stdout",
     "output_type": "stream",
     "text": [
      "conteo:  5\n",
      "particiones:  12\n"
     ]
    }
   ],
   "source": [
    "collData = SpContext.parallelize([4,3,8,5,8])\n",
    "collData.cache()\n",
    "collData.getNumPartitions()\n",
    "conteo = collData.count()\n",
    "print(\"conteo: \",conteo)\n",
    "particiones = collData.getNumPartitions()\n",
    "print(\"particiones: \",particiones)"
   ]
  }
 ],
 "metadata": {
  "kernelspec": {
   "display_name": "Python 3",
   "language": "python",
   "name": "python3"
  },
  "language_info": {
   "codemirror_mode": {
    "name": "ipython",
    "version": 3
   },
   "file_extension": ".py",
   "mimetype": "text/x-python",
   "name": "python",
   "nbconvert_exporter": "python",
   "pygments_lexer": "ipython3",
   "version": "3.6.15"
  }
 },
 "nbformat": 4,
 "nbformat_minor": 4
}
