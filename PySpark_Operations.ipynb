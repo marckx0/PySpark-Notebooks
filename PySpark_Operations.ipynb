{
 "cells": [
  {
   "cell_type": "code",
   "execution_count": 0,
   "metadata": {
    "application/vnd.databricks.v1+cell": {
     "inputWidgets": {},
     "nuid": "87b2e377-1e36-496e-a6a1-2ffcb58b25c1",
     "showTitle": true,
     "title": "Spark Context"
    }
   },
   "outputs": [],
   "source": [
    "from pyspark.sql import SparkSession\n",
    "from pyspark import SparkContext\n",
    "\n",
    "SpSession = SparkSession \\\n",
    "  .builder \\\n",
    "  .appName(\"DBA - Spark Operations\") \\\n",
    "  .getOrCreate()\n",
    "\n",
    "SpContext = SpSession.sparkContext"
   ]
  },
  {
   "cell_type": "code",
   "execution_count": 0,
   "metadata": {
    "application/vnd.databricks.v1+cell": {
     "inputWidgets": {},
     "nuid": "df4bb27b-03d5-4e13-a160-94d28b133b7e",
     "showTitle": true,
     "title": "Carga de Archivos"
    }
   },
   "outputs": [
    {
     "data": {
      "text/plain": [
       "Out[2]: /FileStore/tables/auto_data.csv MapPartitionsRDD[1] at textFile at NativeMethodAccessorImpl.java:0"
      ]
     },
     "metadata": {
      "application/vnd.databricks.v1+output": {
       "addedWidgets": {},
       "arguments": {},
       "data": "Out[2]: /FileStore/tables/auto_data.csv MapPartitionsRDD[1] at textFile at NativeMethodAccessorImpl.java:0",
       "datasetInfos": [],
       "metadata": {},
       "removedWidgets": [],
       "type": "ansi"
      }
     },
     "output_type": "display_data"
    }
   ],
   "source": [
    "inputPath = \"/FileStore/tables/auto_data.csv\"\n",
    "autoData = SpContext.textFile(inputPath)\n",
    "autoData.cache()"
   ]
  },
  {
   "cell_type": "code",
   "execution_count": 0,
   "metadata": {
    "application/vnd.databricks.v1+cell": {
     "inputWidgets": {},
     "nuid": "3dece92c-23bf-4b77-8dc9-d61343b96a91",
     "showTitle": false,
     "title": ""
    }
   },
   "outputs": [
    {
     "data": {
      "text/plain": [
       "Out[3]: 'MAKE,FUELTYPE,ASPIRE,DOORS,BODY,DRIVE,CYLINDERS,HP,RPM,MPG-CITY,MPG-HWY,PRICE'"
      ]
     },
     "metadata": {
      "application/vnd.databricks.v1+output": {
       "addedWidgets": {},
       "arguments": {},
       "data": "Out[3]: 'MAKE,FUELTYPE,ASPIRE,DOORS,BODY,DRIVE,CYLINDERS,HP,RPM,MPG-CITY,MPG-HWY,PRICE'",
       "datasetInfos": [],
       "metadata": {},
       "removedWidgets": [],
       "type": "ansi"
      }
     },
     "output_type": "display_data"
    }
   ],
   "source": [
    "autoData.first()"
   ]
  },
  {
   "cell_type": "code",
   "execution_count": 0,
   "metadata": {
    "application/vnd.databricks.v1+cell": {
     "inputWidgets": {},
     "nuid": "a42b4888-e2a6-43dc-b9be-2033409de439",
     "showTitle": false,
     "title": ""
    }
   },
   "outputs": [
    {
     "data": {
      "text/plain": [
       "Out[4]: 198"
      ]
     },
     "metadata": {
      "application/vnd.databricks.v1+output": {
       "addedWidgets": {},
       "arguments": {},
       "data": "Out[4]: 198",
       "datasetInfos": [],
       "metadata": {},
       "removedWidgets": [],
       "type": "ansi"
      }
     },
     "output_type": "display_data"
    }
   ],
   "source": [
    "autoData.count()"
   ]
  },
  {
   "cell_type": "code",
   "execution_count": 0,
   "metadata": {
    "application/vnd.databricks.v1+cell": {
     "inputWidgets": {},
     "nuid": "44ac05c4-f771-476d-893e-55c2a76bc82f",
     "showTitle": false,
     "title": ""
    }
   },
   "outputs": [
    {
     "data": {
      "text/plain": [
       "Out[5]: ['MAKE,FUELTYPE,ASPIRE,DOORS,BODY,DRIVE,CYLINDERS,HP,RPM,MPG-CITY,MPG-HWY,PRICE',\n",
       " 'subaru,gas,std,two,hatchback,fwd,four,69,4900,31,36,5118',\n",
       " 'chevrolet,gas,std,two,hatchback,fwd,three,48,5100,47,53,5151',\n",
       " 'mazda,gas,std,two,hatchback,fwd,four,68,5000,30,31,5195',\n",
       " 'toyota,gas,std,two,hatchback,fwd,four,62,4800,35,39,5348']"
      ]
     },
     "metadata": {
      "application/vnd.databricks.v1+output": {
       "addedWidgets": {},
       "arguments": {},
       "data": "Out[5]: ['MAKE,FUELTYPE,ASPIRE,DOORS,BODY,DRIVE,CYLINDERS,HP,RPM,MPG-CITY,MPG-HWY,PRICE',\n 'subaru,gas,std,two,hatchback,fwd,four,69,4900,31,36,5118',\n 'chevrolet,gas,std,two,hatchback,fwd,three,48,5100,47,53,5151',\n 'mazda,gas,std,two,hatchback,fwd,four,68,5000,30,31,5195',\n 'toyota,gas,std,two,hatchback,fwd,four,62,4800,35,39,5348']",
       "datasetInfos": [],
       "metadata": {},
       "removedWidgets": [],
       "type": "ansi"
      }
     },
     "output_type": "display_data"
    }
   ],
   "source": [
    "autoData.take(5)"
   ]
  },
  {
   "cell_type": "code",
   "execution_count": 0,
   "metadata": {
    "application/vnd.databricks.v1+cell": {
     "inputWidgets": {},
     "nuid": "11445c9d-065f-4345-8bac-79886b282395",
     "showTitle": false,
     "title": ""
    }
   },
   "outputs": [
    {
     "data": {
      "text/plain": [
       "MAKE,FUELTYPE,ASPIRE,DOORS,BODY,DRIVE,CYLINDERS,HP,RPM,MPG-CITY,MPG-HWY,PRICE\n",
       "subaru,gas,std,two,hatchback,fwd,four,69,4900,31,36,5118\n",
       "chevrolet,gas,std,two,hatchback,fwd,three,48,5100,47,53,5151\n",
       "mazda,gas,std,two,hatchback,fwd,four,68,5000,30,31,5195\n",
       "toyota,gas,std,two,hatchback,fwd,four,62,4800,35,39,5348\n",
       "mitsubishi,gas,std,two,hatchback,fwd,four,68,5500,37,41,5389\n",
       "honda,gas,std,two,hatchback,fwd,four,60,5500,38,42,5399\n",
       "nissan,gas,std,two,sedan,fwd,four,69,5200,31,37,5499\n",
       "dodge,gas,std,two,hatchback,fwd,four,68,5500,37,41,5572\n",
       "plymouth,gas,std,two,hatchback,fwd,four,68,5500,37,41,5572\n",
       "mazda,gas,std,two,hatchback,fwd,four,68,5000,31,38,6095\n",
       "mitsubishi,gas,std,two,hatchback,fwd,four,68,5500,31,38,6189\n",
       "dodge,gas,std,four,hatchback,fwd,four,68,5500,31,38,6229\n",
       "plymouth,gas,std,four,hatchback,fwd,four,68,5500,31,38,6229\n",
       "chevrolet,gas,std,two,hatchback,fwd,four,70,5400,38,43,6295\n",
       "toyota,gas,std,two,hatchback,fwd,four,62,4800,31,38,6338\n",
       "dodge,gas,std,two,hatchback,fwd,four,68,5500,31,38,6377\n",
       "honda,gas,std,two,hatchback,fwd,four,58,4800,49,54,6479\n",
       "toyota,gas,std,four,hatchback,fwd,four,62,4800,31,38,6488\n",
       "honda,gas,std,two,hatchback,fwd,four,76,6000,30,34,6529\n",
       "chevrolet,gas,std,four,sedan,fwd,four,70,5400,38,43,6575\n",
       "nissan,gas,std,two,sedan,fwd,four,69,5200,31,37,6649\n",
       "mitsubishi,gas,std,two,hatchback,fwd,four,68,5500,31,38,6669\n",
       "dodge,gas,std,four,sedan,fwd,four,68,5500,31,38,6692\n",
       "plymouth,gas,std,four,sedan,fwd,four,68,5500,31,38,6692\n",
       "mazda,gas,std,four,sedan,fwd,four,68,5000,31,38,6695\n",
       "isuzu,gas,std,four,sedan,rwd,four,78,4800,24,29,6785\n",
       "mazda,gas,std,two,hatchback,fwd,four,68,5000,31,38,6795\n",
       "nissan,gas,std,four,sedan,fwd,four,69,5200,31,37,6849\n",
       "honda,gas,std,two,hatchback,fwd,four,76,6000,31,38,6855\n",
       "toyota,gas,std,four,wagon,fwd,four,62,4800,31,37,6918\n",
       "toyota,gas,std,four,sedan,fwd,four,70,4800,30,37,6938\n",
       "mitsubishi,gas,std,four,sedan,fwd,four,88,5000,25,32,6989\n",
       "subaru,gas,std,two,hatchback,fwd,four,73,4400,26,31,7053\n",
       "nissan,diesel,std,two,sedan,fwd,four,55,4800,45,50,7099\n",
       "subaru,gas,std,four,sedan,fwd,four,82,4800,32,37,7126\n",
       "honda,gas,std,two,hatchback,fwd,four,76,6000,30,34,7129\n",
       "toyota,gas,std,four,hatchback,fwd,four,70,4800,30,37,7198\n",
       "honda,gas,std,four,sedan,fwd,four,76,6000,30,34,7295\n",
       "honda,gas,std,four,wagon,fwd,four,76,6000,30,34,7295\n",
       "nissan,gas,std,two,sedan,fwd,four,69,5200,31,37,7299\n",
       "nissan,gas,std,four,wagon,fwd,four,69,5200,31,37,7349\n",
       "mazda,gas,std,four,sedan,fwd,four,68,5000,31,38,7395\n",
       "subaru,gas,std,four,wagon,fwd,four,82,4800,28,32,7463\n",
       "nissan,gas,std,four,sedan,fwd,four,69,5200,31,37,7499\n",
       "subaru,gas,std,two,hatchback,4wd,four,73,4400,26,31,7603\n",
       "dodge,gas,std,four,sedan,fwd,four,68,5500,31,38,7609\n",
       "plymouth,gas,std,four,sedan,fwd,four,68,5500,31,38,7609\n",
       "mitsubishi,gas,turbo,two,hatchback,fwd,four,102,5500,24,30,7689\n",
       "toyota,gas,std,four,sedan,fwd,four,70,4800,38,47,7738\n",
       "subaru,gas,std,four,sedan,fwd,four,82,4400,28,33,7775\n",
       "volkswagen,diesel,std,two,sedan,fwd,four,52,4800,37,46,7775\n",
       "toyota,diesel,std,four,hatchback,fwd,four,56,4500,38,47,7788\n",
       "nissan,gas,std,two,hatchback,fwd,four,69,5200,31,37,7799\n",
       "honda,gas,std,two,hatchback,fwd,four,86,5800,27,33,7895\n",
       "toyota,gas,std,four,wagon,4wd,four,62,4800,27,32,7898\n",
       "toyota,diesel,std,four,sedan,fwd,four,56,4500,34,36,7898\n",
       "dodge,gas,turbo,two,hatchback,fwd,four,102,5500,24,30,7957\n",
       "plymouth,gas,turbo,two,hatchback,fwd,four,102,5500,24,30,7957\n",
       "volkswagen,gas,std,two,sedan,fwd,four,85,5250,27,34,7975\n",
       "volkswagen,diesel,std,four,sedan,fwd,four,52,4800,37,46,7995\n",
       "nissan,gas,std,four,wagon,fwd,four,69,5200,31,37,7999\n",
       "subaru,gas,std,four,wagon,4wd,four,82,4800,23,29,8013\n",
       "toyota,gas,std,two,sedan,rwd,four,70,4800,29,34,8058\n",
       "mitsubishi,gas,std,four,sedan,fwd,four,88,5000,25,32,8189\n",
       "volkswagen,gas,std,four,sedan,fwd,four,85,5250,27,34,8195\n",
       "toyota,gas,std,two,hatchback,rwd,four,70,4800,29,34,8238\n",
       "nissan,gas,std,two,hardtop,fwd,four,69,5200,31,37,8249\n",
       "toyota,gas,std,four,hatchback,fwd,four,70,4800,28,34,8358\n",
       "toyota,gas,std,two,hardtop,rwd,four,116,4800,24,30,8449\n",
       "mazda,gas,std,four,sedan,fwd,four,84,4800,26,32,8495\n",
       "volkswagen,gas,std,four,sedan,fwd,four,85,5250,27,34,8495\n",
       "mitsubishi,gas,std,two,hatchback,fwd,four,88,5000,25,32,8499\n",
       "toyota,gas,std,four,wagon,4wd,four,62,4800,27,32,8778\n",
       "honda,gas,std,four,sedan,fwd,four,86,5800,27,33,8845\n",
       "mazda,gas,std,two,hatchback,fwd,four,84,4800,26,32,8845\n",
       "dodge,gas,std,four,wagon,fwd,four,88,5000,24,30,8921\n",
       "plymouth,gas,std,four,wagon,fwd,four,88,5000,24,30,8921\n",
       "toyota,gas,std,four,sedan,fwd,four,92,4200,29,34,8948\n",
       "nissan,gas,std,four,hatchback,fwd,four,97,5200,27,34,8949\n",
       "honda,gas,std,two,hatchback,fwd,four,86,5800,27,33,9095\n",
       "subaru,gas,std,four,sedan,4wd,four,82,4800,24,25,9233\n",
       "toyota,gas,std,four,sedan,fwd,four,70,4800,28,34,9258\n",
       "mitsubishi,gas,turbo,four,sedan,fwd,four,116,5500,23,30,9279\n",
       "mitsubishi,gas,std,four,sedan,fwd,four,116,5500,23,30,9279\n",
       "toyota,gas,std,two,sedan,rwd,four,112,6600,26,29,9298\n",
       "volkswagen,diesel,turbo,four,sedan,fwd,four,68,4500,37,42,9495\n",
       "toyota,gas,std,two,hatchback,rwd,four,112,6600,26,29,9538\n",
       "nissan,gas,std,four,sedan,fwd,four,97,5200,27,34,9549\n",
       "toyota,gas,std,two,hardtop,rwd,four,116,4800,24,30,9639\n",
       "mitsubishi,gas,turbo,two,hatchback,fwd,four,116,5500,23,30,9959\n",
       "subaru,gas,std,four,sedan,fwd,four,94,5200,26,32,9960\n",
       "volkswagen,gas,std,two,hatchback,fwd,four,90,5500,24,29,9980\n",
       "toyota,gas,std,four,hatchback,fwd,four,92,4200,27,32,9988\n",
       "toyota,gas,std,two,hatchback,rwd,four,116,4800,24,30,9989\n",
       "volkswagen,gas,std,four,sedan,fwd,four,100,5500,26,32,9995\n",
       "subaru,gas,std,four,wagon,fwd,four,94,5200,25,31,10198\n",
       "mazda,gas,std,four,sedan,fwd,four,84,4800,26,32,10245\n",
       "honda,gas,std,four,sedan,fwd,four,86,5800,27,33,10295\n",
       "honda,gas,std,two,sedan,fwd,four,100,5500,25,31,10345\n",
       "mazda,gas,std,two,hatchback,fwd,four,84,4800,26,32,10595\n",
       "toyota,diesel,turbo,four,sedan,fwd,four,73,4500,30,33,10698\n",
       "toyota,gas,std,four,sedan,fwd,four,92,4200,27,32,10898\n",
       "mazda,gas,std,two,hatchback,rwd,two,101,6000,17,23,10945\n",
       "isuzu,gas,std,two,hatchback,rwd,four,90,5000,24,29,11048\n",
       "toyota,gas,std,two,hardtop,rwd,four,116,4800,24,30,11199\n",
       "mazda,gas,std,four,hatchback,fwd,four,84,4800,26,32,11245\n",
       "toyota,gas,std,four,hatchback,fwd,four,92,4200,27,32,11248\n",
       "subaru,gas,turbo,four,sedan,4wd,four,111,4800,24,29,11259\n",
       "toyota,gas,std,two,hatchback,rwd,four,116,4800,24,30,11549\n",
       "volkswagen,gas,std,two,convertible,fwd,four,90,5500,24,29,11595\n",
       "subaru,gas,turbo,four,wagon,4wd,four,111,4800,23,23,11694\n",
       "mazda,gas,std,two,hatchback,rwd,two,101,6000,17,23,11845\n",
       "saab,gas,std,two,hatchback,fwd,four,110,5250,21,28,11850\n",
       "peugot,gas,std,four,sedan,rwd,four,97,5000,19,24,11900\n",
       "saab,gas,std,four,sedan,fwd,four,110,5250,21,28,12170\n",
       "volkswagen,gas,std,four,wagon,fwd,four,88,5500,25,31,12290\n",
       "peugot,gas,std,four,wagon,rwd,four,97,5000,19,24,12440\n",
       "mitsubishi,gas,turbo,two,hatchback,fwd,four,145,5000,19,24,12629\n",
       "plymouth,gas,turbo,two,hatchback,rwd,four,145,5000,19,24,12764\n",
       "volvo,gas,std,four,sedan,rwd,four,114,5400,23,28,12940\n",
       "honda,gas,std,four,sedan,fwd,four,101,5800,24,28,12945\n",
       "dodge,gas,turbo,two,hatchback,fwd,four,145,5000,19,24,12964\n",
       "peugot,diesel,turbo,four,sedan,rwd,four,95,4150,28,33,13200\n",
       "volkswagen,gas,std,four,sedan,fwd,five,110,5500,19,24,13295\n",
       "volvo,gas,std,four,wagon,rwd,four,114,5400,23,28,13415\n",
       "alfa-romero,gas,std,two,convertible,rwd,four,111,5000,21,27,13495\n",
       "nissan,gas,std,four,sedan,fwd,six,152,5200,17,22,13499\n",
       "nissan,gas,std,four,sedan,fwd,six,152,5200,19,25,13499\n",
       "mazda,gas,std,two,hatchback,rwd,two,101,6000,17,23,13645\n",
       "volkswagen,diesel,turbo,four,sedan,fwd,four,68,4500,33,38,13845\n",
       "peugot,diesel,turbo,four,wagon,rwd,four,95,4150,25,25,13860\n",
       "audi,gas,std,four,sedan,fwd,four,102,5500,24,30,13950\n",
       "nissan,gas,std,four,wagon,fwd,six,152,5200,17,22,14399\n",
       "mitsubishi,gas,turbo,two,hatchback,fwd,four,145,5000,19,24,14489\n",
       "mitsubishi,gas,turbo,two,hatchback,fwd,four,145,5000,19,24,14869\n",
       "saab,gas,std,two,hatchback,fwd,four,110,5250,21,28,15040\n",
       "audi,gas,std,two,sedan,fwd,five,110,5500,19,25,15250\n",
       "saab,gas,std,four,sedan,fwd,four,110,5250,21,28,15510\n",
       "peugot,gas,std,four,sedan,rwd,four,95,5000,19,24,15580\n",
       "mazda,gas,std,two,hatchback,rwd,two,135,6000,16,23,15645\n",
       "toyota,gas,std,four,sedan,rwd,six,156,5200,20,24,15690\n",
       "toyota,gas,std,four,wagon,rwd,six,156,5200,19,24,15750\n",
       "volvo,gas,std,four,sedan,rwd,four,114,5400,24,28,15985\n",
       "toyota,gas,std,two,hatchback,rwd,six,161,5200,19,24,15998\n",
       "bmw,gas,std,two,sedan,rwd,four,101,5800,23,29,16430\n",
       "alfa-romero,gas,std,two,convertible,rwd,four,111,5000,21,27,16500\n",
       "alfa-romero,gas,std,two,hatchback,rwd,six,154,5000,19,26,16500\n",
       "mercury,gas,turbo,two,hatchback,rwd,four,175,5000,19,24,16503\n",
       "volvo,gas,std,four,wagon,rwd,four,114,5400,24,28,16515\n",
       "toyota,gas,std,two,hatchback,rwd,six,161,5200,20,24,16558\n",
       "peugot,gas,std,four,sedan,rwd,four,97,5000,19,24,16630\n",
       "peugot,gas,std,four,wagon,rwd,four,95,5000,19,24,16695\n",
       "volvo,gas,std,four,sedan,rwd,four,114,5400,23,28,16845\n",
       "peugot,diesel,turbo,four,sedan,rwd,four,95,4150,28,33,16900\n",
       "bmw,gas,std,four,sedan,rwd,four,101,5800,23,29,16925\n",
       "peugot,diesel,turbo,four,wagon,rwd,four,95,4150,25,25,17075\n",
       "nissan,gas,std,two,hatchback,rwd,six,160,5200,19,25,17199\n",
       "audi,gas,std,four,sedan,4wd,five,115,5500,18,22,17450\n",
       "toyota,gas,std,two,convertible,rwd,four,116,4800,24,30,17669\n",
       "audi,gas,std,four,sedan,fwd,five,110,5500,19,25,17710\n",
       "peugot,diesel,turbo,four,sedan,rwd,four,95,4150,28,33,17950\n",
       "peugot,gas,turbo,four,sedan,rwd,four,142,5600,18,24,18150\n",
       "saab,gas,turbo,two,hatchback,fwd,four,160,5500,19,26,18150\n",
       "mazda,gas,std,four,sedan,rwd,four,120,5000,19,27,18280\n",
       "mazda,diesel,std,four,sedan,rwd,four,72,4200,31,39,18344\n",
       "nissan,gas,std,two,hatchback,rwd,six,160,5200,19,25,18399\n",
       "volvo,gas,turbo,four,sedan,rwd,four,162,5100,17,22,18420\n",
       "saab,gas,turbo,four,sedan,fwd,four,160,5500,19,26,18620\n",
       "audi,gas,std,four,wagon,fwd,five,110,5500,19,25,18920\n",
       "volvo,gas,turbo,four,wagon,rwd,four,162,5100,17,22,18950\n",
       "volvo,gas,turbo,four,sedan,rwd,four,160,5300,19,25,19045\n",
       "nissan,gas,turbo,two,hatchback,rwd,six,200,5200,17,23,19699\n",
       "bmw,gas,std,two,sedan,rwd,six,121,4250,21,28,20970\n",
       "bmw,gas,std,four,sedan,rwd,six,121,4250,21,28,21105\n",
       "volvo,gas,std,four,sedan,rwd,six,134,5500,18,23,21485\n",
       "porsche,gas,std,two,hatchback,rwd,four,143,5500,19,27,22018\n",
       "volvo,diesel,turbo,four,sedan,rwd,six,106,4800,26,27,22470\n",
       "volvo,gas,turbo,four,sedan,rwd,four,114,5400,19,25,22625\n",
       "audi,gas,turbo,four,sedan,fwd,five,140,5500,17,20,23875\n",
       "bmw,gas,std,four,sedan,rwd,six,121,4250,20,25,24565\n",
       "mercedes-benz,diesel,turbo,four,sedan,rwd,five,123,4350,22,25,25552\n",
       "mercedes-benz,diesel,turbo,two,hardtop,rwd,five,123,4350,22,25,28176\n",
       "mercedes-benz,diesel,turbo,four,wagon,rwd,five,123,4350,22,25,28248\n",
       "bmw,gas,std,four,sedan,rwd,six,182,5400,16,22,30760\n",
       "mercedes-benz,diesel,turbo,four,sedan,rwd,five,123,4350,22,25,31600\n",
       "jaguar,gas,std,four,sedan,rwd,six,176,4750,15,19,32250\n",
       "porsche,gas,std,two,hardtop,rwd,six,207,5900,17,25,32528\n",
       "porsche,gas,std,two,hardtop,rwd,six,207,5900,17,25,34028\n",
       "mercedes-benz,gas,std,four,sedan,rwd,eight,155,4750,16,18,34184\n",
       "mercedes-benz,gas,std,two,convertible,rwd,eight,155,4750,16,18,35056\n",
       "jaguar,gas,std,four,sedan,rwd,six,176,4750,15,19,35550\n",
       "jaguar,gas,std,two,sedan,rwd,twelve,262,5000,13,17,36000\n",
       "bmw,gas,std,four,sedan,rwd,six,182,5400,15,20,36880\n",
       "porsche,gas,std,two,convertible,rwd,six,207,5900,17,25,37028\n",
       "mercedes-benz,gas,std,four,sedan,rwd,eight,184,4500,14,16,40960\n",
       "bmw,gas,std,two,sedan,rwd,six,182,5400,16,22,41315\n",
       "mercedes-benz,gas,std,two,hardtop,rwd,eight,184,4500,14,16,45400\n"
      ]
     },
     "metadata": {
      "application/vnd.databricks.v1+output": {
       "addedWidgets": {},
       "arguments": {},
       "data": "MAKE,FUELTYPE,ASPIRE,DOORS,BODY,DRIVE,CYLINDERS,HP,RPM,MPG-CITY,MPG-HWY,PRICE\nsubaru,gas,std,two,hatchback,fwd,four,69,4900,31,36,5118\nchevrolet,gas,std,two,hatchback,fwd,three,48,5100,47,53,5151\nmazda,gas,std,two,hatchback,fwd,four,68,5000,30,31,5195\ntoyota,gas,std,two,hatchback,fwd,four,62,4800,35,39,5348\nmitsubishi,gas,std,two,hatchback,fwd,four,68,5500,37,41,5389\nhonda,gas,std,two,hatchback,fwd,four,60,5500,38,42,5399\nnissan,gas,std,two,sedan,fwd,four,69,5200,31,37,5499\ndodge,gas,std,two,hatchback,fwd,four,68,5500,37,41,5572\nplymouth,gas,std,two,hatchback,fwd,four,68,5500,37,41,5572\nmazda,gas,std,two,hatchback,fwd,four,68,5000,31,38,6095\nmitsubishi,gas,std,two,hatchback,fwd,four,68,5500,31,38,6189\ndodge,gas,std,four,hatchback,fwd,four,68,5500,31,38,6229\nplymouth,gas,std,four,hatchback,fwd,four,68,5500,31,38,6229\nchevrolet,gas,std,two,hatchback,fwd,four,70,5400,38,43,6295\ntoyota,gas,std,two,hatchback,fwd,four,62,4800,31,38,6338\ndodge,gas,std,two,hatchback,fwd,four,68,5500,31,38,6377\nhonda,gas,std,two,hatchback,fwd,four,58,4800,49,54,6479\ntoyota,gas,std,four,hatchback,fwd,four,62,4800,31,38,6488\nhonda,gas,std,two,hatchback,fwd,four,76,6000,30,34,6529\nchevrolet,gas,std,four,sedan,fwd,four,70,5400,38,43,6575\nnissan,gas,std,two,sedan,fwd,four,69,5200,31,37,6649\nmitsubishi,gas,std,two,hatchback,fwd,four,68,5500,31,38,6669\ndodge,gas,std,four,sedan,fwd,four,68,5500,31,38,6692\nplymouth,gas,std,four,sedan,fwd,four,68,5500,31,38,6692\nmazda,gas,std,four,sedan,fwd,four,68,5000,31,38,6695\nisuzu,gas,std,four,sedan,rwd,four,78,4800,24,29,6785\nmazda,gas,std,two,hatchback,fwd,four,68,5000,31,38,6795\nnissan,gas,std,four,sedan,fwd,four,69,5200,31,37,6849\nhonda,gas,std,two,hatchback,fwd,four,76,6000,31,38,6855\ntoyota,gas,std,four,wagon,fwd,four,62,4800,31,37,6918\ntoyota,gas,std,four,sedan,fwd,four,70,4800,30,37,6938\nmitsubishi,gas,std,four,sedan,fwd,four,88,5000,25,32,6989\nsubaru,gas,std,two,hatchback,fwd,four,73,4400,26,31,7053\nnissan,diesel,std,two,sedan,fwd,four,55,4800,45,50,7099\nsubaru,gas,std,four,sedan,fwd,four,82,4800,32,37,7126\nhonda,gas,std,two,hatchback,fwd,four,76,6000,30,34,7129\ntoyota,gas,std,four,hatchback,fwd,four,70,4800,30,37,7198\nhonda,gas,std,four,sedan,fwd,four,76,6000,30,34,7295\nhonda,gas,std,four,wagon,fwd,four,76,6000,30,34,7295\nnissan,gas,std,two,sedan,fwd,four,69,5200,31,37,7299\nnissan,gas,std,four,wagon,fwd,four,69,5200,31,37,7349\nmazda,gas,std,four,sedan,fwd,four,68,5000,31,38,7395\nsubaru,gas,std,four,wagon,fwd,four,82,4800,28,32,7463\nnissan,gas,std,four,sedan,fwd,four,69,5200,31,37,7499\nsubaru,gas,std,two,hatchback,4wd,four,73,4400,26,31,7603\ndodge,gas,std,four,sedan,fwd,four,68,5500,31,38,7609\nplymouth,gas,std,four,sedan,fwd,four,68,5500,31,38,7609\nmitsubishi,gas,turbo,two,hatchback,fwd,four,102,5500,24,30,7689\ntoyota,gas,std,four,sedan,fwd,four,70,4800,38,47,7738\nsubaru,gas,std,four,sedan,fwd,four,82,4400,28,33,7775\nvolkswagen,diesel,std,two,sedan,fwd,four,52,4800,37,46,7775\ntoyota,diesel,std,four,hatchback,fwd,four,56,4500,38,47,7788\nnissan,gas,std,two,hatchback,fwd,four,69,5200,31,37,7799\nhonda,gas,std,two,hatchback,fwd,four,86,5800,27,33,7895\ntoyota,gas,std,four,wagon,4wd,four,62,4800,27,32,7898\ntoyota,diesel,std,four,sedan,fwd,four,56,4500,34,36,7898\ndodge,gas,turbo,two,hatchback,fwd,four,102,5500,24,30,7957\nplymouth,gas,turbo,two,hatchback,fwd,four,102,5500,24,30,7957\nvolkswagen,gas,std,two,sedan,fwd,four,85,5250,27,34,7975\nvolkswagen,diesel,std,four,sedan,fwd,four,52,4800,37,46,7995\nnissan,gas,std,four,wagon,fwd,four,69,5200,31,37,7999\nsubaru,gas,std,four,wagon,4wd,four,82,4800,23,29,8013\ntoyota,gas,std,two,sedan,rwd,four,70,4800,29,34,8058\nmitsubishi,gas,std,four,sedan,fwd,four,88,5000,25,32,8189\nvolkswagen,gas,std,four,sedan,fwd,four,85,5250,27,34,8195\ntoyota,gas,std,two,hatchback,rwd,four,70,4800,29,34,8238\nnissan,gas,std,two,hardtop,fwd,four,69,5200,31,37,8249\ntoyota,gas,std,four,hatchback,fwd,four,70,4800,28,34,8358\ntoyota,gas,std,two,hardtop,rwd,four,116,4800,24,30,8449\nmazda,gas,std,four,sedan,fwd,four,84,4800,26,32,8495\nvolkswagen,gas,std,four,sedan,fwd,four,85,5250,27,34,8495\nmitsubishi,gas,std,two,hatchback,fwd,four,88,5000,25,32,8499\ntoyota,gas,std,four,wagon,4wd,four,62,4800,27,32,8778\nhonda,gas,std,four,sedan,fwd,four,86,5800,27,33,8845\nmazda,gas,std,two,hatchback,fwd,four,84,4800,26,32,8845\ndodge,gas,std,four,wagon,fwd,four,88,5000,24,30,8921\nplymouth,gas,std,four,wagon,fwd,four,88,5000,24,30,8921\ntoyota,gas,std,four,sedan,fwd,four,92,4200,29,34,8948\nnissan,gas,std,four,hatchback,fwd,four,97,5200,27,34,8949\nhonda,gas,std,two,hatchback,fwd,four,86,5800,27,33,9095\nsubaru,gas,std,four,sedan,4wd,four,82,4800,24,25,9233\ntoyota,gas,std,four,sedan,fwd,four,70,4800,28,34,9258\nmitsubishi,gas,turbo,four,sedan,fwd,four,116,5500,23,30,9279\nmitsubishi,gas,std,four,sedan,fwd,four,116,5500,23,30,9279\ntoyota,gas,std,two,sedan,rwd,four,112,6600,26,29,9298\nvolkswagen,diesel,turbo,four,sedan,fwd,four,68,4500,37,42,9495\ntoyota,gas,std,two,hatchback,rwd,four,112,6600,26,29,9538\nnissan,gas,std,four,sedan,fwd,four,97,5200,27,34,9549\ntoyota,gas,std,two,hardtop,rwd,four,116,4800,24,30,9639\nmitsubishi,gas,turbo,two,hatchback,fwd,four,116,5500,23,30,9959\nsubaru,gas,std,four,sedan,fwd,four,94,5200,26,32,9960\nvolkswagen,gas,std,two,hatchback,fwd,four,90,5500,24,29,9980\ntoyota,gas,std,four,hatchback,fwd,four,92,4200,27,32,9988\ntoyota,gas,std,two,hatchback,rwd,four,116,4800,24,30,9989\nvolkswagen,gas,std,four,sedan,fwd,four,100,5500,26,32,9995\nsubaru,gas,std,four,wagon,fwd,four,94,5200,25,31,10198\nmazda,gas,std,four,sedan,fwd,four,84,4800,26,32,10245\nhonda,gas,std,four,sedan,fwd,four,86,5800,27,33,10295\nhonda,gas,std,two,sedan,fwd,four,100,5500,25,31,10345\nmazda,gas,std,two,hatchback,fwd,four,84,4800,26,32,10595\ntoyota,diesel,turbo,four,sedan,fwd,four,73,4500,30,33,10698\ntoyota,gas,std,four,sedan,fwd,four,92,4200,27,32,10898\nmazda,gas,std,two,hatchback,rwd,two,101,6000,17,23,10945\nisuzu,gas,std,two,hatchback,rwd,four,90,5000,24,29,11048\ntoyota,gas,std,two,hardtop,rwd,four,116,4800,24,30,11199\nmazda,gas,std,four,hatchback,fwd,four,84,4800,26,32,11245\ntoyota,gas,std,four,hatchback,fwd,four,92,4200,27,32,11248\nsubaru,gas,turbo,four,sedan,4wd,four,111,4800,24,29,11259\ntoyota,gas,std,two,hatchback,rwd,four,116,4800,24,30,11549\nvolkswagen,gas,std,two,convertible,fwd,four,90,5500,24,29,11595\nsubaru,gas,turbo,four,wagon,4wd,four,111,4800,23,23,11694\nmazda,gas,std,two,hatchback,rwd,two,101,6000,17,23,11845\nsaab,gas,std,two,hatchback,fwd,four,110,5250,21,28,11850\npeugot,gas,std,four,sedan,rwd,four,97,5000,19,24,11900\nsaab,gas,std,four,sedan,fwd,four,110,5250,21,28,12170\nvolkswagen,gas,std,four,wagon,fwd,four,88,5500,25,31,12290\npeugot,gas,std,four,wagon,rwd,four,97,5000,19,24,12440\nmitsubishi,gas,turbo,two,hatchback,fwd,four,145,5000,19,24,12629\nplymouth,gas,turbo,two,hatchback,rwd,four,145,5000,19,24,12764\nvolvo,gas,std,four,sedan,rwd,four,114,5400,23,28,12940\nhonda,gas,std,four,sedan,fwd,four,101,5800,24,28,12945\ndodge,gas,turbo,two,hatchback,fwd,four,145,5000,19,24,12964\npeugot,diesel,turbo,four,sedan,rwd,four,95,4150,28,33,13200\nvolkswagen,gas,std,four,sedan,fwd,five,110,5500,19,24,13295\nvolvo,gas,std,four,wagon,rwd,four,114,5400,23,28,13415\nalfa-romero,gas,std,two,convertible,rwd,four,111,5000,21,27,13495\nnissan,gas,std,four,sedan,fwd,six,152,5200,17,22,13499\nnissan,gas,std,four,sedan,fwd,six,152,5200,19,25,13499\nmazda,gas,std,two,hatchback,rwd,two,101,6000,17,23,13645\nvolkswagen,diesel,turbo,four,sedan,fwd,four,68,4500,33,38,13845\npeugot,diesel,turbo,four,wagon,rwd,four,95,4150,25,25,13860\naudi,gas,std,four,sedan,fwd,four,102,5500,24,30,13950\nnissan,gas,std,four,wagon,fwd,six,152,5200,17,22,14399\nmitsubishi,gas,turbo,two,hatchback,fwd,four,145,5000,19,24,14489\nmitsubishi,gas,turbo,two,hatchback,fwd,four,145,5000,19,24,14869\nsaab,gas,std,two,hatchback,fwd,four,110,5250,21,28,15040\naudi,gas,std,two,sedan,fwd,five,110,5500,19,25,15250\nsaab,gas,std,four,sedan,fwd,four,110,5250,21,28,15510\npeugot,gas,std,four,sedan,rwd,four,95,5000,19,24,15580\nmazda,gas,std,two,hatchback,rwd,two,135,6000,16,23,15645\ntoyota,gas,std,four,sedan,rwd,six,156,5200,20,24,15690\ntoyota,gas,std,four,wagon,rwd,six,156,5200,19,24,15750\nvolvo,gas,std,four,sedan,rwd,four,114,5400,24,28,15985\ntoyota,gas,std,two,hatchback,rwd,six,161,5200,19,24,15998\nbmw,gas,std,two,sedan,rwd,four,101,5800,23,29,16430\nalfa-romero,gas,std,two,convertible,rwd,four,111,5000,21,27,16500\nalfa-romero,gas,std,two,hatchback,rwd,six,154,5000,19,26,16500\nmercury,gas,turbo,two,hatchback,rwd,four,175,5000,19,24,16503\nvolvo,gas,std,four,wagon,rwd,four,114,5400,24,28,16515\ntoyota,gas,std,two,hatchback,rwd,six,161,5200,20,24,16558\npeugot,gas,std,four,sedan,rwd,four,97,5000,19,24,16630\npeugot,gas,std,four,wagon,rwd,four,95,5000,19,24,16695\nvolvo,gas,std,four,sedan,rwd,four,114,5400,23,28,16845\npeugot,diesel,turbo,four,sedan,rwd,four,95,4150,28,33,16900\nbmw,gas,std,four,sedan,rwd,four,101,5800,23,29,16925\npeugot,diesel,turbo,four,wagon,rwd,four,95,4150,25,25,17075\nnissan,gas,std,two,hatchback,rwd,six,160,5200,19,25,17199\naudi,gas,std,four,sedan,4wd,five,115,5500,18,22,17450\ntoyota,gas,std,two,convertible,rwd,four,116,4800,24,30,17669\naudi,gas,std,four,sedan,fwd,five,110,5500,19,25,17710\npeugot,diesel,turbo,four,sedan,rwd,four,95,4150,28,33,17950\npeugot,gas,turbo,four,sedan,rwd,four,142,5600,18,24,18150\nsaab,gas,turbo,two,hatchback,fwd,four,160,5500,19,26,18150\nmazda,gas,std,four,sedan,rwd,four,120,5000,19,27,18280\nmazda,diesel,std,four,sedan,rwd,four,72,4200,31,39,18344\nnissan,gas,std,two,hatchback,rwd,six,160,5200,19,25,18399\nvolvo,gas,turbo,four,sedan,rwd,four,162,5100,17,22,18420\nsaab,gas,turbo,four,sedan,fwd,four,160,5500,19,26,18620\naudi,gas,std,four,wagon,fwd,five,110,5500,19,25,18920\nvolvo,gas,turbo,four,wagon,rwd,four,162,5100,17,22,18950\nvolvo,gas,turbo,four,sedan,rwd,four,160,5300,19,25,19045\nnissan,gas,turbo,two,hatchback,rwd,six,200,5200,17,23,19699\nbmw,gas,std,two,sedan,rwd,six,121,4250,21,28,20970\nbmw,gas,std,four,sedan,rwd,six,121,4250,21,28,21105\nvolvo,gas,std,four,sedan,rwd,six,134,5500,18,23,21485\nporsche,gas,std,two,hatchback,rwd,four,143,5500,19,27,22018\nvolvo,diesel,turbo,four,sedan,rwd,six,106,4800,26,27,22470\nvolvo,gas,turbo,four,sedan,rwd,four,114,5400,19,25,22625\naudi,gas,turbo,four,sedan,fwd,five,140,5500,17,20,23875\nbmw,gas,std,four,sedan,rwd,six,121,4250,20,25,24565\nmercedes-benz,diesel,turbo,four,sedan,rwd,five,123,4350,22,25,25552\nmercedes-benz,diesel,turbo,two,hardtop,rwd,five,123,4350,22,25,28176\nmercedes-benz,diesel,turbo,four,wagon,rwd,five,123,4350,22,25,28248\nbmw,gas,std,four,sedan,rwd,six,182,5400,16,22,30760\nmercedes-benz,diesel,turbo,four,sedan,rwd,five,123,4350,22,25,31600\njaguar,gas,std,four,sedan,rwd,six,176,4750,15,19,32250\nporsche,gas,std,two,hardtop,rwd,six,207,5900,17,25,32528\nporsche,gas,std,two,hardtop,rwd,six,207,5900,17,25,34028\nmercedes-benz,gas,std,four,sedan,rwd,eight,155,4750,16,18,34184\nmercedes-benz,gas,std,two,convertible,rwd,eight,155,4750,16,18,35056\njaguar,gas,std,four,sedan,rwd,six,176,4750,15,19,35550\njaguar,gas,std,two,sedan,rwd,twelve,262,5000,13,17,36000\nbmw,gas,std,four,sedan,rwd,six,182,5400,15,20,36880\nporsche,gas,std,two,convertible,rwd,six,207,5900,17,25,37028\nmercedes-benz,gas,std,four,sedan,rwd,eight,184,4500,14,16,40960\nbmw,gas,std,two,sedan,rwd,six,182,5400,16,22,41315\nmercedes-benz,gas,std,two,hardtop,rwd,eight,184,4500,14,16,45400\n",
       "datasetInfos": [],
       "metadata": {},
       "removedWidgets": [],
       "type": "ansi"
      }
     },
     "output_type": "display_data"
    }
   ],
   "source": [
    "for line in autoData.collect():\n",
    "  print(line)"
   ]
  },
  {
   "cell_type": "code",
   "execution_count": 0,
   "metadata": {
    "application/vnd.databricks.v1+cell": {
     "inputWidgets": {},
     "nuid": "6f348e99-84ee-4c07-9661-b992f8be3f82",
     "showTitle": true,
     "title": "Guardar RDD"
    }
   },
   "outputs": [],
   "source": [
    "outputPath = \"auto-data-saved.csv\"\n",
    "autoDataFile = open(outputPath,\"w\")\n",
    "autoDataFile.write(\"\\n\".join(autoData.collect()))\n",
    "autoDataFile.close()"
   ]
  },
  {
   "cell_type": "code",
   "execution_count": 0,
   "metadata": {
    "application/vnd.databricks.v1+cell": {
     "inputWidgets": {},
     "nuid": "175102f8-6b57-4581-be35-c3eea3b15843",
     "showTitle": true,
     "title": "Transformaciones"
    }
   },
   "outputs": [
    {
     "data": {
      "text/plain": [
       "Transformations\n",
       "autoData count: 198\n"
      ]
     },
     "metadata": {
      "application/vnd.databricks.v1+output": {
       "addedWidgets": {},
       "arguments": {},
       "data": "Transformations\nautoData count: 198\n",
       "datasetInfos": [],
       "metadata": {},
       "removedWidgets": [],
       "type": "ansi"
      }
     },
     "output_type": "display_data"
    }
   ],
   "source": [
    "print(\"Transformations\")\n",
    "print(\"autoData count:\", autoData.count())"
   ]
  },
  {
   "cell_type": "code",
   "execution_count": 0,
   "metadata": {
    "application/vnd.databricks.v1+cell": {
     "inputWidgets": {},
     "nuid": "78da4f1a-d0cb-4a84-84e3-6d706ce06fa6",
     "showTitle": true,
     "title": "Mapear y crear un nuevo RDD"
    }
   },
   "outputs": [
    {
     "data": {
      "text/plain": [
       "tsvData.take\n",
       "MAKE\tFUELTYPE\tASPIRE\tDOORS\tBODY\tDRIVE\tCYLINDERS\tHP\tRPM\tMPG-CITY\tMPG-HWY\tPRICE\n",
       "subaru\tgas\tstd\ttwo\thatchback\tfwd\tfour\t69\t4900\t31\t36\t5118\n",
       "chevrolet\tgas\tstd\ttwo\thatchback\tfwd\tthree\t48\t5100\t47\t53\t5151\n",
       "mazda\tgas\tstd\ttwo\thatchback\tfwd\tfour\t68\t5000\t30\t31\t5195\n",
       "toyota\tgas\tstd\ttwo\thatchback\tfwd\tfour\t62\t4800\t35\t39\t5348\n"
      ]
     },
     "metadata": {
      "application/vnd.databricks.v1+output": {
       "addedWidgets": {},
       "arguments": {},
       "data": "tsvData.take\nMAKE\tFUELTYPE\tASPIRE\tDOORS\tBODY\tDRIVE\tCYLINDERS\tHP\tRPM\tMPG-CITY\tMPG-HWY\tPRICE\nsubaru\tgas\tstd\ttwo\thatchback\tfwd\tfour\t69\t4900\t31\t36\t5118\nchevrolet\tgas\tstd\ttwo\thatchback\tfwd\tthree\t48\t5100\t47\t53\t5151\nmazda\tgas\tstd\ttwo\thatchback\tfwd\tfour\t68\t5000\t30\t31\t5195\ntoyota\tgas\tstd\ttwo\thatchback\tfwd\tfour\t62\t4800\t35\t39\t5348\n",
       "datasetInfos": [],
       "metadata": {},
       "removedWidgets": [],
       "type": "ansi"
      }
     },
     "output_type": "display_data"
    }
   ],
   "source": [
    "tsvData = autoData.map(lambda x : x.replace(\",\",\"\\t\"))\n",
    "print(\"tsvData.take\")\n",
    "for i in tsvData.take(5):\n",
    "  print(i)"
   ]
  },
  {
   "cell_type": "code",
   "execution_count": 0,
   "metadata": {
    "application/vnd.databricks.v1+cell": {
     "inputWidgets": {},
     "nuid": "8733d781-f6e8-4180-b20b-c0107d23be14",
     "showTitle": true,
     "title": "Filtrar y crear un nuevo RDD"
    }
   },
   "outputs": [
    {
     "data": {
      "text/plain": [
       "32\n",
       "toyota,gas,std,two,hatchback,fwd,four,62,4800,35,39,5348\n",
       "toyota,gas,std,two,hatchback,fwd,four,62,4800,31,38,6338\n",
       "toyota,gas,std,four,hatchback,fwd,four,62,4800,31,38,6488\n",
       "toyota,gas,std,four,wagon,fwd,four,62,4800,31,37,6918\n",
       "toyota,gas,std,four,sedan,fwd,four,70,4800,30,37,6938\n"
      ]
     },
     "metadata": {
      "application/vnd.databricks.v1+output": {
       "addedWidgets": {},
       "arguments": {},
       "data": "32\ntoyota,gas,std,two,hatchback,fwd,four,62,4800,35,39,5348\ntoyota,gas,std,two,hatchback,fwd,four,62,4800,31,38,6338\ntoyota,gas,std,four,hatchback,fwd,four,62,4800,31,38,6488\ntoyota,gas,std,four,wagon,fwd,four,62,4800,31,37,6918\ntoyota,gas,std,four,sedan,fwd,four,70,4800,30,37,6938\n",
       "datasetInfos": [],
       "metadata": {},
       "removedWidgets": [],
       "type": "ansi"
      }
     },
     "output_type": "display_data"
    }
   ],
   "source": [
    "toyotaData = autoData.filter(lambda x : \"toyota\" in x)\n",
    "print(toyotaData.count())\n",
    "for i in toyotaData.take(5):\n",
    "  print(i)"
   ]
  },
  {
   "cell_type": "code",
   "execution_count": 0,
   "metadata": {
    "application/vnd.databricks.v1+cell": {
     "inputWidgets": {},
     "nuid": "92e0f205-82e7-4bcc-83f5-9867f84f867a",
     "showTitle": true,
     "title": "FlatMap"
    }
   },
   "outputs": [
    {
     "data": {
      "text/plain": [
       "words.count:  384\n",
       "toyota\n",
       "gas\n",
       "std\n",
       "two\n",
       "hatchback\n",
       "fwd\n",
       "four\n",
       "62\n",
       "4800\n",
       "35\n",
       "39\n",
       "5348\n",
       "toyota\n",
       "gas\n",
       "std\n",
       "two\n",
       "hatchback\n",
       "fwd\n",
       "four\n",
       "62\n"
      ]
     },
     "metadata": {
      "application/vnd.databricks.v1+output": {
       "addedWidgets": {},
       "arguments": {},
       "data": "words.count:  384\ntoyota\ngas\nstd\ntwo\nhatchback\nfwd\nfour\n62\n4800\n35\n39\n5348\ntoyota\ngas\nstd\ntwo\nhatchback\nfwd\nfour\n62\n",
       "datasetInfos": [],
       "metadata": {},
       "removedWidgets": [],
       "type": "ansi"
      }
     },
     "output_type": "display_data"
    }
   ],
   "source": [
    "words = toyotaData.flatMap(lambda line : line.split(\",\"))\n",
    "print(\"words.count: \", words.count())\n",
    "for i in words.take(20):\n",
    "  print(i)"
   ]
  },
  {
   "cell_type": "code",
   "execution_count": 0,
   "metadata": {
    "application/vnd.databricks.v1+cell": {
     "inputWidgets": {},
     "nuid": "bd01fad7-1ebd-45e2-a690-da2bba79ab5d",
     "showTitle": true,
     "title": "Distinct"
    }
   },
   "outputs": [
    {
     "data": {
      "text/plain": [
       "std\n",
       "two\n",
       "hatchback\n",
       "fwd\n",
       "four\n",
       "5348\n",
       "6338\n",
       "sedan\n",
       "70\n",
       "diesel\n",
       "56\n",
       "7788\n",
       "4wd\n",
       "34\n",
       "29\n",
       "8238\n",
       "hardtop\n",
       "116\n",
       "24\n",
       "4200\n",
       "8948\n",
       "9258\n",
       "112\n",
       "6600\n",
       "26\n",
       "9298\n",
       "9988\n",
       "73\n",
       "33\n",
       "11248\n",
       "20\n",
       "15690\n",
       "19\n",
       "15750\n",
       "161\n",
       "15998\n",
       "16558\n",
       "convertible\n",
       "toyota\n",
       "gas\n",
       "62\n",
       "4800\n",
       "35\n",
       "39\n",
       "31\n",
       "38\n",
       "6488\n",
       "wagon\n",
       "37\n",
       "6918\n",
       "30\n",
       "6938\n",
       "7198\n",
       "47\n",
       "7738\n",
       "4500\n",
       "27\n",
       "32\n",
       "7898\n",
       "36\n",
       "rwd\n",
       "8058\n",
       "28\n",
       "8358\n",
       "8449\n",
       "8778\n",
       "92\n",
       "9538\n",
       "9639\n",
       "9989\n",
       "turbo\n",
       "10698\n",
       "10898\n",
       "11199\n",
       "11549\n",
       "six\n",
       "156\n",
       "5200\n",
       "17669\n"
      ]
     },
     "metadata": {
      "application/vnd.databricks.v1+output": {
       "addedWidgets": {},
       "arguments": {},
       "data": "std\ntwo\nhatchback\nfwd\nfour\n5348\n6338\nsedan\n70\ndiesel\n56\n7788\n4wd\n34\n29\n8238\nhardtop\n116\n24\n4200\n8948\n9258\n112\n6600\n26\n9298\n9988\n73\n33\n11248\n20\n15690\n19\n15750\n161\n15998\n16558\nconvertible\ntoyota\ngas\n62\n4800\n35\n39\n31\n38\n6488\nwagon\n37\n6918\n30\n6938\n7198\n47\n7738\n4500\n27\n32\n7898\n36\nrwd\n8058\n28\n8358\n8449\n8778\n92\n9538\n9639\n9989\nturbo\n10698\n10898\n11199\n11549\nsix\n156\n5200\n17669\n",
       "datasetInfos": [],
       "metadata": {},
       "removedWidgets": [],
       "type": "ansi"
      }
     },
     "output_type": "display_data"
    }
   ],
   "source": [
    "for numbData in words.distinct().collect():\n",
    "  print(numbData)"
   ]
  },
  {
   "cell_type": "code",
   "execution_count": 0,
   "metadata": {
    "application/vnd.databricks.v1+cell": {
     "inputWidgets": {},
     "nuid": "0c37d71d-e4ea-48ed-b27b-ec8c8a502a22",
     "showTitle": false,
     "title": ""
    }
   },
   "outputs": [
    {
     "data": {
      "text/plain": [
       "toyota,gas,std,two,hatchback,fwd,four,62,4800,35,39,5348\n",
       "toyota,gas,std,four,wagon,fwd,four,62,4800,31,37,6918\n",
       "toyota,gas,std,four,wagon,4wd,four,62,4800,27,32,7898\n",
       "toyota,diesel,std,four,sedan,fwd,four,56,4500,34,36,7898\n",
       "toyota,gas,std,two,hardtop,rwd,four,116,4800,24,30,8449\n",
       "toyota,gas,std,four,sedan,fwd,four,92,4200,29,34,8948\n",
       "toyota,gas,std,two,sedan,rwd,four,112,6600,26,29,9298\n",
       "toyota,gas,std,two,hatchback,rwd,four,112,6600,26,29,9538\n",
       "toyota,gas,std,two,hardtop,rwd,four,116,4800,24,30,9639\n",
       "toyota,gas,std,four,hatchback,fwd,four,92,4200,27,32,9988\n",
       "toyota,gas,std,two,hatchback,rwd,four,116,4800,24,30,9989\n",
       "toyota,diesel,turbo,four,sedan,fwd,four,73,4500,30,33,10698\n",
       "toyota,gas,std,four,sedan,fwd,four,92,4200,27,32,10898\n",
       "toyota,gas,std,two,hatchback,rwd,six,161,5200,20,24,16558\n",
       "toyota,gas,std,two,hatchback,fwd,four,62,4800,31,38,6338\n",
       "toyota,gas,std,four,hatchback,fwd,four,62,4800,31,38,6488\n",
       "toyota,gas,std,four,sedan,fwd,four,70,4800,30,37,6938\n",
       "toyota,gas,std,four,hatchback,fwd,four,70,4800,30,37,7198\n",
       "toyota,gas,std,four,sedan,fwd,four,70,4800,38,47,7738\n",
       "toyota,diesel,std,four,hatchback,fwd,four,56,4500,38,47,7788\n",
       "toyota,gas,std,two,sedan,rwd,four,70,4800,29,34,8058\n",
       "toyota,gas,std,two,hatchback,rwd,four,70,4800,29,34,8238\n",
       "toyota,gas,std,four,hatchback,fwd,four,70,4800,28,34,8358\n",
       "toyota,gas,std,four,wagon,4wd,four,62,4800,27,32,8778\n",
       "toyota,gas,std,four,sedan,fwd,four,70,4800,28,34,9258\n",
       "toyota,gas,std,two,hardtop,rwd,four,116,4800,24,30,11199\n",
       "toyota,gas,std,four,hatchback,fwd,four,92,4200,27,32,11248\n",
       "toyota,gas,std,two,hatchback,rwd,four,116,4800,24,30,11549\n",
       "toyota,gas,std,four,sedan,rwd,six,156,5200,20,24,15690\n",
       "toyota,gas,std,four,wagon,rwd,six,156,5200,19,24,15750\n",
       "toyota,gas,std,two,hatchback,rwd,six,161,5200,19,24,15998\n",
       "toyota,gas,std,two,convertible,rwd,four,116,4800,24,30,17669\n"
      ]
     },
     "metadata": {
      "application/vnd.databricks.v1+output": {
       "addedWidgets": {},
       "arguments": {},
       "data": "toyota,gas,std,two,hatchback,fwd,four,62,4800,35,39,5348\ntoyota,gas,std,four,wagon,fwd,four,62,4800,31,37,6918\ntoyota,gas,std,four,wagon,4wd,four,62,4800,27,32,7898\ntoyota,diesel,std,four,sedan,fwd,four,56,4500,34,36,7898\ntoyota,gas,std,two,hardtop,rwd,four,116,4800,24,30,8449\ntoyota,gas,std,four,sedan,fwd,four,92,4200,29,34,8948\ntoyota,gas,std,two,sedan,rwd,four,112,6600,26,29,9298\ntoyota,gas,std,two,hatchback,rwd,four,112,6600,26,29,9538\ntoyota,gas,std,two,hardtop,rwd,four,116,4800,24,30,9639\ntoyota,gas,std,four,hatchback,fwd,four,92,4200,27,32,9988\ntoyota,gas,std,two,hatchback,rwd,four,116,4800,24,30,9989\ntoyota,diesel,turbo,four,sedan,fwd,four,73,4500,30,33,10698\ntoyota,gas,std,four,sedan,fwd,four,92,4200,27,32,10898\ntoyota,gas,std,two,hatchback,rwd,six,161,5200,20,24,16558\ntoyota,gas,std,two,hatchback,fwd,four,62,4800,31,38,6338\ntoyota,gas,std,four,hatchback,fwd,four,62,4800,31,38,6488\ntoyota,gas,std,four,sedan,fwd,four,70,4800,30,37,6938\ntoyota,gas,std,four,hatchback,fwd,four,70,4800,30,37,7198\ntoyota,gas,std,four,sedan,fwd,four,70,4800,38,47,7738\ntoyota,diesel,std,four,hatchback,fwd,four,56,4500,38,47,7788\ntoyota,gas,std,two,sedan,rwd,four,70,4800,29,34,8058\ntoyota,gas,std,two,hatchback,rwd,four,70,4800,29,34,8238\ntoyota,gas,std,four,hatchback,fwd,four,70,4800,28,34,8358\ntoyota,gas,std,four,wagon,4wd,four,62,4800,27,32,8778\ntoyota,gas,std,four,sedan,fwd,four,70,4800,28,34,9258\ntoyota,gas,std,two,hardtop,rwd,four,116,4800,24,30,11199\ntoyota,gas,std,four,hatchback,fwd,four,92,4200,27,32,11248\ntoyota,gas,std,two,hatchback,rwd,four,116,4800,24,30,11549\ntoyota,gas,std,four,sedan,rwd,six,156,5200,20,24,15690\ntoyota,gas,std,four,wagon,rwd,six,156,5200,19,24,15750\ntoyota,gas,std,two,hatchback,rwd,six,161,5200,19,24,15998\ntoyota,gas,std,two,convertible,rwd,four,116,4800,24,30,17669\n",
       "datasetInfos": [],
       "metadata": {},
       "removedWidgets": [],
       "type": "ansi"
      }
     },
     "output_type": "display_data"
    }
   ],
   "source": [
    "for numbData in toyotaData.distinct().collect():\n",
    "  print(numbData)"
   ]
  },
  {
   "cell_type": "code",
   "execution_count": 0,
   "metadata": {
    "application/vnd.databricks.v1+cell": {
     "inputWidgets": {},
     "nuid": "05b20225-cc15-4a36-b527-4a265a16dfba",
     "showTitle": true,
     "title": "Operaciones de conjuntos"
    }
   },
   "outputs": [],
   "source": [
    "words1 = SpContext.parallelize([\"hello\",\"war\",\"peace\",\"world\"])\n",
    "words2 = SpContext.parallelize([\"war\",\"peace\",\"universe\"])"
   ]
  },
  {
   "cell_type": "code",
   "execution_count": 0,
   "metadata": {
    "application/vnd.databricks.v1+cell": {
     "inputWidgets": {},
     "nuid": "7d69322e-012f-48bf-9c3a-b27cd954191a",
     "showTitle": false,
     "title": ""
    }
   },
   "outputs": [
    {
     "data": {
      "text/plain": [
       "Union\n",
       "peace\n",
       "hello\n",
       "universe\n",
       "world\n",
       "war\n"
      ]
     },
     "metadata": {
      "application/vnd.databricks.v1+output": {
       "addedWidgets": {},
       "arguments": {},
       "data": "Union\npeace\nhello\nuniverse\nworld\nwar\n",
       "datasetInfos": [],
       "metadata": {},
       "removedWidgets": [],
       "type": "ansi"
      }
     },
     "output_type": "display_data"
    }
   ],
   "source": [
    "print(\"Union\")\n",
    "for union in words1.union(words2).distinct().collect():\n",
    "  print(union)"
   ]
  },
  {
   "cell_type": "code",
   "execution_count": 0,
   "metadata": {
    "application/vnd.databricks.v1+cell": {
     "inputWidgets": {},
     "nuid": "a66465b7-57db-4fd4-8ba6-dde4f4067aec",
     "showTitle": false,
     "title": ""
    }
   },
   "outputs": [
    {
     "data": {
      "text/plain": [
       "Interseccion\n",
       "peace\n",
       "war\n"
      ]
     },
     "metadata": {
      "application/vnd.databricks.v1+output": {
       "addedWidgets": {},
       "arguments": {},
       "data": "Interseccion\npeace\nwar\n",
       "datasetInfos": [],
       "metadata": {},
       "removedWidgets": [],
       "type": "ansi"
      }
     },
     "output_type": "display_data"
    }
   ],
   "source": [
    "print(\"Interseccion\")\n",
    "for intersects in words1.intersection(words2).collect():\n",
    "  print(intersects)"
   ]
  },
  {
   "cell_type": "code",
   "execution_count": 0,
   "metadata": {
    "application/vnd.databricks.v1+cell": {
     "inputWidgets": {},
     "nuid": "f631aa6d-fc86-4550-b275-18b31c9c3416",
     "showTitle": false,
     "title": ""
    }
   },
   "outputs": [
    {
     "data": {
      "text/plain": [
       "subtracs\n",
       "hello\n",
       "world\n"
      ]
     },
     "metadata": {
      "application/vnd.databricks.v1+output": {
       "addedWidgets": {},
       "arguments": {},
       "data": "subtracs\nhello\nworld\n",
       "datasetInfos": [],
       "metadata": {},
       "removedWidgets": [],
       "type": "ansi"
      }
     },
     "output_type": "display_data"
    }
   ],
   "source": [
    "print(\"subtracs\")\n",
    "for subtracs in words1.subtract(words2).collect():\n",
    "  print(subtracs)"
   ]
  },
  {
   "cell_type": "code",
   "execution_count": 0,
   "metadata": {
    "application/vnd.databricks.v1+cell": {
     "inputWidgets": {},
     "nuid": "c78fa67c-6ec7-44a7-824d-36c1600bf84a",
     "showTitle": true,
     "title": "Uso de funciones para transformar y formatear"
    }
   },
   "outputs": [
    {
     "data": {
      "text/plain": [
       "MAKE,FUELTYPE,ASPIRE,DOORS,BODY,DRIVE,CYLINDERS,HP,RPM,MPG-CITY,MPG-HWY,PRICE\n",
       "subaru,gas,std,4,hatchback,FWD,four,69,4900,31,36,5118\n",
       "chevrolet,gas,std,4,hatchback,FWD,three,48,5100,47,53,5151\n",
       "mazda,gas,std,4,hatchback,FWD,four,68,5000,30,31,5195\n",
       "toyota,gas,std,4,hatchback,FWD,four,62,4800,35,39,5348\n",
       "mitsubishi,gas,std,4,hatchback,FWD,four,68,5500,37,41,5389\n",
       "honda,gas,std,4,hatchback,FWD,four,60,5500,38,42,5399\n",
       "nissan,gas,std,4,sedan,FWD,four,69,5200,31,37,5499\n",
       "dodge,gas,std,4,hatchback,FWD,four,68,5500,37,41,5572\n",
       "plymouth,gas,std,4,hatchback,FWD,four,68,5500,37,41,5572\n",
       "mazda,gas,std,4,hatchback,FWD,four,68,5000,31,38,6095\n",
       "mitsubishi,gas,std,4,hatchback,FWD,four,68,5500,31,38,6189\n",
       "dodge,gas,std,2,hatchback,FWD,four,68,5500,31,38,6229\n",
       "plymouth,gas,std,2,hatchback,FWD,four,68,5500,31,38,6229\n",
       "chevrolet,gas,std,4,hatchback,FWD,four,70,5400,38,43,6295\n",
       "toyota,gas,std,4,hatchback,FWD,four,62,4800,31,38,6338\n",
       "dodge,gas,std,4,hatchback,FWD,four,68,5500,31,38,6377\n",
       "honda,gas,std,4,hatchback,FWD,four,58,4800,49,54,6479\n",
       "toyota,gas,std,2,hatchback,FWD,four,62,4800,31,38,6488\n",
       "honda,gas,std,4,hatchback,FWD,four,76,6000,30,34,6529\n",
       "chevrolet,gas,std,2,sedan,FWD,four,70,5400,38,43,6575\n",
       "nissan,gas,std,4,sedan,FWD,four,69,5200,31,37,6649\n",
       "mitsubishi,gas,std,4,hatchback,FWD,four,68,5500,31,38,6669\n",
       "dodge,gas,std,2,sedan,FWD,four,68,5500,31,38,6692\n",
       "plymouth,gas,std,2,sedan,FWD,four,68,5500,31,38,6692\n",
       "mazda,gas,std,2,sedan,FWD,four,68,5000,31,38,6695\n",
       "isuzu,gas,std,2,sedan,RWD,four,78,4800,24,29,6785\n",
       "mazda,gas,std,4,hatchback,FWD,four,68,5000,31,38,6795\n",
       "nissan,gas,std,2,sedan,FWD,four,69,5200,31,37,6849\n",
       "honda,gas,std,4,hatchback,FWD,four,76,6000,31,38,6855\n",
       "toyota,gas,std,2,wagon,FWD,four,62,4800,31,37,6918\n",
       "toyota,gas,std,2,sedan,FWD,four,70,4800,30,37,6938\n",
       "mitsubishi,gas,std,2,sedan,FWD,four,88,5000,25,32,6989\n",
       "subaru,gas,std,4,hatchback,FWD,four,73,4400,26,31,7053\n",
       "nissan,diesel,std,4,sedan,FWD,four,55,4800,45,50,7099\n",
       "subaru,gas,std,2,sedan,FWD,four,82,4800,32,37,7126\n",
       "honda,gas,std,4,hatchback,FWD,four,76,6000,30,34,7129\n",
       "toyota,gas,std,2,hatchback,FWD,four,70,4800,30,37,7198\n",
       "honda,gas,std,2,sedan,FWD,four,76,6000,30,34,7295\n",
       "honda,gas,std,2,wagon,FWD,four,76,6000,30,34,7295\n",
       "nissan,gas,std,4,sedan,FWD,four,69,5200,31,37,7299\n",
       "nissan,gas,std,2,wagon,FWD,four,69,5200,31,37,7349\n",
       "mazda,gas,std,2,sedan,FWD,four,68,5000,31,38,7395\n",
       "subaru,gas,std,2,wagon,FWD,four,82,4800,28,32,7463\n",
       "nissan,gas,std,2,sedan,FWD,four,69,5200,31,37,7499\n",
       "subaru,gas,std,4,hatchback,4WD,four,73,4400,26,31,7603\n",
       "dodge,gas,std,2,sedan,FWD,four,68,5500,31,38,7609\n",
       "plymouth,gas,std,2,sedan,FWD,four,68,5500,31,38,7609\n",
       "mitsubishi,gas,turbo,4,hatchback,FWD,four,102,5500,24,30,7689\n",
       "toyota,gas,std,2,sedan,FWD,four,70,4800,38,47,7738\n",
       "subaru,gas,std,2,sedan,FWD,four,82,4400,28,33,7775\n",
       "volkswagen,diesel,std,4,sedan,FWD,four,52,4800,37,46,7775\n",
       "toyota,diesel,std,2,hatchback,FWD,four,56,4500,38,47,7788\n",
       "nissan,gas,std,4,hatchback,FWD,four,69,5200,31,37,7799\n",
       "honda,gas,std,4,hatchback,FWD,four,86,5800,27,33,7895\n",
       "toyota,gas,std,2,wagon,4WD,four,62,4800,27,32,7898\n",
       "toyota,diesel,std,2,sedan,FWD,four,56,4500,34,36,7898\n",
       "dodge,gas,turbo,4,hatchback,FWD,four,102,5500,24,30,7957\n",
       "plymouth,gas,turbo,4,hatchback,FWD,four,102,5500,24,30,7957\n",
       "volkswagen,gas,std,4,sedan,FWD,four,85,5250,27,34,7975\n",
       "volkswagen,diesel,std,2,sedan,FWD,four,52,4800,37,46,7995\n",
       "nissan,gas,std,2,wagon,FWD,four,69,5200,31,37,7999\n",
       "subaru,gas,std,2,wagon,4WD,four,82,4800,23,29,8013\n",
       "toyota,gas,std,4,sedan,RWD,four,70,4800,29,34,8058\n",
       "mitsubishi,gas,std,2,sedan,FWD,four,88,5000,25,32,8189\n",
       "volkswagen,gas,std,2,sedan,FWD,four,85,5250,27,34,8195\n",
       "toyota,gas,std,4,hatchback,RWD,four,70,4800,29,34,8238\n",
       "nissan,gas,std,4,hardtop,FWD,four,69,5200,31,37,8249\n",
       "toyota,gas,std,2,hatchback,FWD,four,70,4800,28,34,8358\n",
       "toyota,gas,std,4,hardtop,RWD,four,116,4800,24,30,8449\n",
       "mazda,gas,std,2,sedan,FWD,four,84,4800,26,32,8495\n",
       "volkswagen,gas,std,2,sedan,FWD,four,85,5250,27,34,8495\n",
       "mitsubishi,gas,std,4,hatchback,FWD,four,88,5000,25,32,8499\n",
       "toyota,gas,std,2,wagon,4WD,four,62,4800,27,32,8778\n",
       "honda,gas,std,2,sedan,FWD,four,86,5800,27,33,8845\n",
       "mazda,gas,std,4,hatchback,FWD,four,84,4800,26,32,8845\n",
       "dodge,gas,std,2,wagon,FWD,four,88,5000,24,30,8921\n",
       "plymouth,gas,std,2,wagon,FWD,four,88,5000,24,30,8921\n",
       "toyota,gas,std,2,sedan,FWD,four,92,4200,29,34,8948\n",
       "nissan,gas,std,2,hatchback,FWD,four,97,5200,27,34,8949\n",
       "honda,gas,std,4,hatchback,FWD,four,86,5800,27,33,9095\n",
       "subaru,gas,std,2,sedan,4WD,four,82,4800,24,25,9233\n",
       "toyota,gas,std,2,sedan,FWD,four,70,4800,28,34,9258\n",
       "mitsubishi,gas,turbo,2,sedan,FWD,four,116,5500,23,30,9279\n",
       "mitsubishi,gas,std,2,sedan,FWD,four,116,5500,23,30,9279\n",
       "toyota,gas,std,4,sedan,RWD,four,112,6600,26,29,9298\n",
       "volkswagen,diesel,turbo,2,sedan,FWD,four,68,4500,37,42,9495\n",
       "toyota,gas,std,4,hatchback,RWD,four,112,6600,26,29,9538\n",
       "nissan,gas,std,2,sedan,FWD,four,97,5200,27,34,9549\n",
       "toyota,gas,std,4,hardtop,RWD,four,116,4800,24,30,9639\n",
       "mitsubishi,gas,turbo,4,hatchback,FWD,four,116,5500,23,30,9959\n",
       "subaru,gas,std,2,sedan,FWD,four,94,5200,26,32,9960\n",
       "volkswagen,gas,std,4,hatchback,FWD,four,90,5500,24,29,9980\n",
       "toyota,gas,std,2,hatchback,FWD,four,92,4200,27,32,9988\n",
       "toyota,gas,std,4,hatchback,RWD,four,116,4800,24,30,9989\n",
       "volkswagen,gas,std,2,sedan,FWD,four,100,5500,26,32,9995\n",
       "subaru,gas,std,2,wagon,FWD,four,94,5200,25,31,10198\n",
       "mazda,gas,std,2,sedan,FWD,four,84,4800,26,32,10245\n",
       "honda,gas,std,2,sedan,FWD,four,86,5800,27,33,10295\n",
       "honda,gas,std,4,sedan,FWD,four,100,5500,25,31,10345\n",
       "mazda,gas,std,4,hatchback,FWD,four,84,4800,26,32,10595\n",
       "toyota,diesel,turbo,2,sedan,FWD,four,73,4500,30,33,10698\n",
       "toyota,gas,std,2,sedan,FWD,four,92,4200,27,32,10898\n",
       "mazda,gas,std,4,hatchback,RWD,two,101,6000,17,23,10945\n",
       "isuzu,gas,std,4,hatchback,RWD,four,90,5000,24,29,11048\n",
       "toyota,gas,std,4,hardtop,RWD,four,116,4800,24,30,11199\n",
       "mazda,gas,std,2,hatchback,FWD,four,84,4800,26,32,11245\n",
       "toyota,gas,std,2,hatchback,FWD,four,92,4200,27,32,11248\n",
       "subaru,gas,turbo,2,sedan,4WD,four,111,4800,24,29,11259\n",
       "toyota,gas,std,4,hatchback,RWD,four,116,4800,24,30,11549\n",
       "volkswagen,gas,std,4,convertible,FWD,four,90,5500,24,29,11595\n",
       "subaru,gas,turbo,2,wagon,4WD,four,111,4800,23,23,11694\n",
       "mazda,gas,std,4,hatchback,RWD,two,101,6000,17,23,11845\n",
       "saab,gas,std,4,hatchback,FWD,four,110,5250,21,28,11850\n",
       "peugot,gas,std,2,sedan,RWD,four,97,5000,19,24,11900\n",
       "saab,gas,std,2,sedan,FWD,four,110,5250,21,28,12170\n",
       "volkswagen,gas,std,2,wagon,FWD,four,88,5500,25,31,12290\n",
       "peugot,gas,std,2,wagon,RWD,four,97,5000,19,24,12440\n",
       "mitsubishi,gas,turbo,4,hatchback,FWD,four,145,5000,19,24,12629\n",
       "plymouth,gas,turbo,4,hatchback,RWD,four,145,5000,19,24,12764\n",
       "volvo,gas,std,2,sedan,RWD,four,114,5400,23,28,12940\n",
       "honda,gas,std,2,sedan,FWD,four,101,5800,24,28,12945\n",
       "dodge,gas,turbo,4,hatchback,FWD,four,145,5000,19,24,12964\n",
       "peugot,diesel,turbo,2,sedan,RWD,four,95,4150,28,33,13200\n",
       "volkswagen,gas,std,2,sedan,FWD,five,110,5500,19,24,13295\n",
       "volvo,gas,std,2,wagon,RWD,four,114,5400,23,28,13415\n",
       "alfa-romero,gas,std,4,convertible,RWD,four,111,5000,21,27,13495\n",
       "nissan,gas,std,2,sedan,FWD,six,152,5200,17,22,13499\n",
       "nissan,gas,std,2,sedan,FWD,six,152,5200,19,25,13499\n",
       "mazda,gas,std,4,hatchback,RWD,two,101,6000,17,23,13645\n",
       "volkswagen,diesel,turbo,2,sedan,FWD,four,68,4500,33,38,13845\n",
       "peugot,diesel,turbo,2,wagon,RWD,four,95,4150,25,25,13860\n",
       "audi,gas,std,2,sedan,FWD,four,102,5500,24,30,13950\n",
       "nissan,gas,std,2,wagon,FWD,six,152,5200,17,22,14399\n",
       "mitsubishi,gas,turbo,4,hatchback,FWD,four,145,5000,19,24,14489\n",
       "mitsubishi,gas,turbo,4,hatchback,FWD,four,145,5000,19,24,14869\n",
       "saab,gas,std,4,hatchback,FWD,four,110,5250,21,28,15040\n",
       "audi,gas,std,4,sedan,FWD,five,110,5500,19,25,15250\n",
       "saab,gas,std,2,sedan,FWD,four,110,5250,21,28,15510\n",
       "peugot,gas,std,2,sedan,RWD,four,95,5000,19,24,15580\n",
       "mazda,gas,std,4,hatchback,RWD,two,135,6000,16,23,15645\n",
       "toyota,gas,std,2,sedan,RWD,six,156,5200,20,24,15690\n",
       "toyota,gas,std,2,wagon,RWD,six,156,5200,19,24,15750\n",
       "volvo,gas,std,2,sedan,RWD,four,114,5400,24,28,15985\n",
       "toyota,gas,std,4,hatchback,RWD,six,161,5200,19,24,15998\n",
       "bmw,gas,std,4,sedan,RWD,four,101,5800,23,29,16430\n",
       "alfa-romero,gas,std,4,convertible,RWD,four,111,5000,21,27,16500\n",
       "alfa-romero,gas,std,4,hatchback,RWD,six,154,5000,19,26,16500\n",
       "mercury,gas,turbo,4,hatchback,RWD,four,175,5000,19,24,16503\n",
       "volvo,gas,std,2,wagon,RWD,four,114,5400,24,28,16515\n",
       "toyota,gas,std,4,hatchback,RWD,six,161,5200,20,24,16558\n",
       "peugot,gas,std,2,sedan,RWD,four,97,5000,19,24,16630\n",
       "peugot,gas,std,2,wagon,RWD,four,95,5000,19,24,16695\n",
       "volvo,gas,std,2,sedan,RWD,four,114,5400,23,28,16845\n",
       "peugot,diesel,turbo,2,sedan,RWD,four,95,4150,28,33,16900\n",
       "bmw,gas,std,2,sedan,RWD,four,101,5800,23,29,16925\n",
       "peugot,diesel,turbo,2,wagon,RWD,four,95,4150,25,25,17075\n",
       "nissan,gas,std,4,hatchback,RWD,six,160,5200,19,25,17199\n",
       "audi,gas,std,2,sedan,4WD,five,115,5500,18,22,17450\n",
       "toyota,gas,std,4,convertible,RWD,four,116,4800,24,30,17669\n",
       "audi,gas,std,2,sedan,FWD,five,110,5500,19,25,17710\n",
       "peugot,diesel,turbo,2,sedan,RWD,four,95,4150,28,33,17950\n",
       "peugot,gas,turbo,2,sedan,RWD,four,142,5600,18,24,18150\n",
       "saab,gas,turbo,4,hatchback,FWD,four,160,5500,19,26,18150\n",
       "mazda,gas,std,2,sedan,RWD,four,120,5000,19,27,18280\n",
       "mazda,diesel,std,2,sedan,RWD,four,72,4200,31,39,18344\n",
       "nissan,gas,std,4,hatchback,RWD,six,160,5200,19,25,18399\n",
       "volvo,gas,turbo,2,sedan,RWD,four,162,5100,17,22,18420\n",
       "saab,gas,turbo,2,sedan,FWD,four,160,5500,19,26,18620\n",
       "audi,gas,std,2,wagon,FWD,five,110,5500,19,25,18920\n",
       "volvo,gas,turbo,2,wagon,RWD,four,162,5100,17,22,18950\n",
       "volvo,gas,turbo,2,sedan,RWD,four,160,5300,19,25,19045\n",
       "nissan,gas,turbo,4,hatchback,RWD,six,200,5200,17,23,19699\n",
       "bmw,gas,std,4,sedan,RWD,six,121,4250,21,28,20970\n",
       "bmw,gas,std,2,sedan,RWD,six,121,4250,21,28,21105\n",
       "volvo,gas,std,2,sedan,RWD,six,134,5500,18,23,21485\n",
       "porsche,gas,std,4,hatchback,RWD,four,143,5500,19,27,22018\n",
       "volvo,diesel,turbo,2,sedan,RWD,six,106,4800,26,27,22470\n",
       "volvo,gas,turbo,2,sedan,RWD,four,114,5400,19,25,22625\n",
       "audi,gas,turbo,2,sedan,FWD,five,140,5500,17,20,23875\n",
       "bmw,gas,std,2,sedan,RWD,six,121,4250,20,25,24565\n",
       "mercedes-benz,diesel,turbo,2,sedan,RWD,five,123,4350,22,25,25552\n",
       "mercedes-benz,diesel,turbo,4,hardtop,RWD,five,123,4350,22,25,28176\n",
       "mercedes-benz,diesel,turbo,2,wagon,RWD,five,123,4350,22,25,28248\n",
       "bmw,gas,std,2,sedan,RWD,six,182,5400,16,22,30760\n",
       "mercedes-benz,diesel,turbo,2,sedan,RWD,five,123,4350,22,25,31600\n",
       "jaguar,gas,std,2,sedan,RWD,six,176,4750,15,19,32250\n",
       "porsche,gas,std,4,hardtop,RWD,six,207,5900,17,25,32528\n",
       "porsche,gas,std,4,hardtop,RWD,six,207,5900,17,25,34028\n",
       "mercedes-benz,gas,std,2,sedan,RWD,eight,155,4750,16,18,34184\n",
       "mercedes-benz,gas,std,4,convertible,RWD,eight,155,4750,16,18,35056\n",
       "jaguar,gas,std,2,sedan,RWD,six,176,4750,15,19,35550\n",
       "jaguar,gas,std,4,sedan,RWD,twelve,262,5000,13,17,36000\n",
       "bmw,gas,std,2,sedan,RWD,six,182,5400,15,20,36880\n",
       "porsche,gas,std,4,convertible,RWD,six,207,5900,17,25,37028\n",
       "mercedes-benz,gas,std,2,sedan,RWD,eight,184,4500,14,16,40960\n",
       "bmw,gas,std,4,sedan,RWD,six,182,5400,16,22,41315\n",
       "mercedes-benz,gas,std,4,hardtop,RWD,eight,184,4500,14,16,45400\n"
      ]
     },
     "metadata": {
      "application/vnd.databricks.v1+output": {
       "addedWidgets": {},
       "arguments": {},
       "data": "MAKE,FUELTYPE,ASPIRE,DOORS,BODY,DRIVE,CYLINDERS,HP,RPM,MPG-CITY,MPG-HWY,PRICE\nsubaru,gas,std,4,hatchback,FWD,four,69,4900,31,36,5118\nchevrolet,gas,std,4,hatchback,FWD,three,48,5100,47,53,5151\nmazda,gas,std,4,hatchback,FWD,four,68,5000,30,31,5195\ntoyota,gas,std,4,hatchback,FWD,four,62,4800,35,39,5348\nmitsubishi,gas,std,4,hatchback,FWD,four,68,5500,37,41,5389\nhonda,gas,std,4,hatchback,FWD,four,60,5500,38,42,5399\nnissan,gas,std,4,sedan,FWD,four,69,5200,31,37,5499\ndodge,gas,std,4,hatchback,FWD,four,68,5500,37,41,5572\nplymouth,gas,std,4,hatchback,FWD,four,68,5500,37,41,5572\nmazda,gas,std,4,hatchback,FWD,four,68,5000,31,38,6095\nmitsubishi,gas,std,4,hatchback,FWD,four,68,5500,31,38,6189\ndodge,gas,std,2,hatchback,FWD,four,68,5500,31,38,6229\nplymouth,gas,std,2,hatchback,FWD,four,68,5500,31,38,6229\nchevrolet,gas,std,4,hatchback,FWD,four,70,5400,38,43,6295\ntoyota,gas,std,4,hatchback,FWD,four,62,4800,31,38,6338\ndodge,gas,std,4,hatchback,FWD,four,68,5500,31,38,6377\nhonda,gas,std,4,hatchback,FWD,four,58,4800,49,54,6479\ntoyota,gas,std,2,hatchback,FWD,four,62,4800,31,38,6488\nhonda,gas,std,4,hatchback,FWD,four,76,6000,30,34,6529\nchevrolet,gas,std,2,sedan,FWD,four,70,5400,38,43,6575\nnissan,gas,std,4,sedan,FWD,four,69,5200,31,37,6649\nmitsubishi,gas,std,4,hatchback,FWD,four,68,5500,31,38,6669\ndodge,gas,std,2,sedan,FWD,four,68,5500,31,38,6692\nplymouth,gas,std,2,sedan,FWD,four,68,5500,31,38,6692\nmazda,gas,std,2,sedan,FWD,four,68,5000,31,38,6695\nisuzu,gas,std,2,sedan,RWD,four,78,4800,24,29,6785\nmazda,gas,std,4,hatchback,FWD,four,68,5000,31,38,6795\nnissan,gas,std,2,sedan,FWD,four,69,5200,31,37,6849\nhonda,gas,std,4,hatchback,FWD,four,76,6000,31,38,6855\ntoyota,gas,std,2,wagon,FWD,four,62,4800,31,37,6918\ntoyota,gas,std,2,sedan,FWD,four,70,4800,30,37,6938\nmitsubishi,gas,std,2,sedan,FWD,four,88,5000,25,32,6989\nsubaru,gas,std,4,hatchback,FWD,four,73,4400,26,31,7053\nnissan,diesel,std,4,sedan,FWD,four,55,4800,45,50,7099\nsubaru,gas,std,2,sedan,FWD,four,82,4800,32,37,7126\nhonda,gas,std,4,hatchback,FWD,four,76,6000,30,34,7129\ntoyota,gas,std,2,hatchback,FWD,four,70,4800,30,37,7198\nhonda,gas,std,2,sedan,FWD,four,76,6000,30,34,7295\nhonda,gas,std,2,wagon,FWD,four,76,6000,30,34,7295\nnissan,gas,std,4,sedan,FWD,four,69,5200,31,37,7299\nnissan,gas,std,2,wagon,FWD,four,69,5200,31,37,7349\nmazda,gas,std,2,sedan,FWD,four,68,5000,31,38,7395\nsubaru,gas,std,2,wagon,FWD,four,82,4800,28,32,7463\nnissan,gas,std,2,sedan,FWD,four,69,5200,31,37,7499\nsubaru,gas,std,4,hatchback,4WD,four,73,4400,26,31,7603\ndodge,gas,std,2,sedan,FWD,four,68,5500,31,38,7609\nplymouth,gas,std,2,sedan,FWD,four,68,5500,31,38,7609\nmitsubishi,gas,turbo,4,hatchback,FWD,four,102,5500,24,30,7689\ntoyota,gas,std,2,sedan,FWD,four,70,4800,38,47,7738\nsubaru,gas,std,2,sedan,FWD,four,82,4400,28,33,7775\nvolkswagen,diesel,std,4,sedan,FWD,four,52,4800,37,46,7775\ntoyota,diesel,std,2,hatchback,FWD,four,56,4500,38,47,7788\nnissan,gas,std,4,hatchback,FWD,four,69,5200,31,37,7799\nhonda,gas,std,4,hatchback,FWD,four,86,5800,27,33,7895\ntoyota,gas,std,2,wagon,4WD,four,62,4800,27,32,7898\ntoyota,diesel,std,2,sedan,FWD,four,56,4500,34,36,7898\ndodge,gas,turbo,4,hatchback,FWD,four,102,5500,24,30,7957\nplymouth,gas,turbo,4,hatchback,FWD,four,102,5500,24,30,7957\nvolkswagen,gas,std,4,sedan,FWD,four,85,5250,27,34,7975\nvolkswagen,diesel,std,2,sedan,FWD,four,52,4800,37,46,7995\nnissan,gas,std,2,wagon,FWD,four,69,5200,31,37,7999\nsubaru,gas,std,2,wagon,4WD,four,82,4800,23,29,8013\ntoyota,gas,std,4,sedan,RWD,four,70,4800,29,34,8058\nmitsubishi,gas,std,2,sedan,FWD,four,88,5000,25,32,8189\nvolkswagen,gas,std,2,sedan,FWD,four,85,5250,27,34,8195\ntoyota,gas,std,4,hatchback,RWD,four,70,4800,29,34,8238\nnissan,gas,std,4,hardtop,FWD,four,69,5200,31,37,8249\ntoyota,gas,std,2,hatchback,FWD,four,70,4800,28,34,8358\ntoyota,gas,std,4,hardtop,RWD,four,116,4800,24,30,8449\nmazda,gas,std,2,sedan,FWD,four,84,4800,26,32,8495\nvolkswagen,gas,std,2,sedan,FWD,four,85,5250,27,34,8495\nmitsubishi,gas,std,4,hatchback,FWD,four,88,5000,25,32,8499\ntoyota,gas,std,2,wagon,4WD,four,62,4800,27,32,8778\nhonda,gas,std,2,sedan,FWD,four,86,5800,27,33,8845\nmazda,gas,std,4,hatchback,FWD,four,84,4800,26,32,8845\ndodge,gas,std,2,wagon,FWD,four,88,5000,24,30,8921\nplymouth,gas,std,2,wagon,FWD,four,88,5000,24,30,8921\ntoyota,gas,std,2,sedan,FWD,four,92,4200,29,34,8948\nnissan,gas,std,2,hatchback,FWD,four,97,5200,27,34,8949\nhonda,gas,std,4,hatchback,FWD,four,86,5800,27,33,9095\nsubaru,gas,std,2,sedan,4WD,four,82,4800,24,25,9233\ntoyota,gas,std,2,sedan,FWD,four,70,4800,28,34,9258\nmitsubishi,gas,turbo,2,sedan,FWD,four,116,5500,23,30,9279\nmitsubishi,gas,std,2,sedan,FWD,four,116,5500,23,30,9279\ntoyota,gas,std,4,sedan,RWD,four,112,6600,26,29,9298\nvolkswagen,diesel,turbo,2,sedan,FWD,four,68,4500,37,42,9495\ntoyota,gas,std,4,hatchback,RWD,four,112,6600,26,29,9538\nnissan,gas,std,2,sedan,FWD,four,97,5200,27,34,9549\ntoyota,gas,std,4,hardtop,RWD,four,116,4800,24,30,9639\nmitsubishi,gas,turbo,4,hatchback,FWD,four,116,5500,23,30,9959\nsubaru,gas,std,2,sedan,FWD,four,94,5200,26,32,9960\nvolkswagen,gas,std,4,hatchback,FWD,four,90,5500,24,29,9980\ntoyota,gas,std,2,hatchback,FWD,four,92,4200,27,32,9988\ntoyota,gas,std,4,hatchback,RWD,four,116,4800,24,30,9989\nvolkswagen,gas,std,2,sedan,FWD,four,100,5500,26,32,9995\nsubaru,gas,std,2,wagon,FWD,four,94,5200,25,31,10198\nmazda,gas,std,2,sedan,FWD,four,84,4800,26,32,10245\nhonda,gas,std,2,sedan,FWD,four,86,5800,27,33,10295\nhonda,gas,std,4,sedan,FWD,four,100,5500,25,31,10345\nmazda,gas,std,4,hatchback,FWD,four,84,4800,26,32,10595\ntoyota,diesel,turbo,2,sedan,FWD,four,73,4500,30,33,10698\ntoyota,gas,std,2,sedan,FWD,four,92,4200,27,32,10898\nmazda,gas,std,4,hatchback,RWD,two,101,6000,17,23,10945\nisuzu,gas,std,4,hatchback,RWD,four,90,5000,24,29,11048\ntoyota,gas,std,4,hardtop,RWD,four,116,4800,24,30,11199\nmazda,gas,std,2,hatchback,FWD,four,84,4800,26,32,11245\ntoyota,gas,std,2,hatchback,FWD,four,92,4200,27,32,11248\nsubaru,gas,turbo,2,sedan,4WD,four,111,4800,24,29,11259\ntoyota,gas,std,4,hatchback,RWD,four,116,4800,24,30,11549\nvolkswagen,gas,std,4,convertible,FWD,four,90,5500,24,29,11595\nsubaru,gas,turbo,2,wagon,4WD,four,111,4800,23,23,11694\nmazda,gas,std,4,hatchback,RWD,two,101,6000,17,23,11845\nsaab,gas,std,4,hatchback,FWD,four,110,5250,21,28,11850\npeugot,gas,std,2,sedan,RWD,four,97,5000,19,24,11900\nsaab,gas,std,2,sedan,FWD,four,110,5250,21,28,12170\nvolkswagen,gas,std,2,wagon,FWD,four,88,5500,25,31,12290\npeugot,gas,std,2,wagon,RWD,four,97,5000,19,24,12440\nmitsubishi,gas,turbo,4,hatchback,FWD,four,145,5000,19,24,12629\nplymouth,gas,turbo,4,hatchback,RWD,four,145,5000,19,24,12764\nvolvo,gas,std,2,sedan,RWD,four,114,5400,23,28,12940\nhonda,gas,std,2,sedan,FWD,four,101,5800,24,28,12945\ndodge,gas,turbo,4,hatchback,FWD,four,145,5000,19,24,12964\npeugot,diesel,turbo,2,sedan,RWD,four,95,4150,28,33,13200\nvolkswagen,gas,std,2,sedan,FWD,five,110,5500,19,24,13295\nvolvo,gas,std,2,wagon,RWD,four,114,5400,23,28,13415\nalfa-romero,gas,std,4,convertible,RWD,four,111,5000,21,27,13495\nnissan,gas,std,2,sedan,FWD,six,152,5200,17,22,13499\nnissan,gas,std,2,sedan,FWD,six,152,5200,19,25,13499\nmazda,gas,std,4,hatchback,RWD,two,101,6000,17,23,13645\nvolkswagen,diesel,turbo,2,sedan,FWD,four,68,4500,33,38,13845\npeugot,diesel,turbo,2,wagon,RWD,four,95,4150,25,25,13860\naudi,gas,std,2,sedan,FWD,four,102,5500,24,30,13950\nnissan,gas,std,2,wagon,FWD,six,152,5200,17,22,14399\nmitsubishi,gas,turbo,4,hatchback,FWD,four,145,5000,19,24,14489\nmitsubishi,gas,turbo,4,hatchback,FWD,four,145,5000,19,24,14869\nsaab,gas,std,4,hatchback,FWD,four,110,5250,21,28,15040\naudi,gas,std,4,sedan,FWD,five,110,5500,19,25,15250\nsaab,gas,std,2,sedan,FWD,four,110,5250,21,28,15510\npeugot,gas,std,2,sedan,RWD,four,95,5000,19,24,15580\nmazda,gas,std,4,hatchback,RWD,two,135,6000,16,23,15645\ntoyota,gas,std,2,sedan,RWD,six,156,5200,20,24,15690\ntoyota,gas,std,2,wagon,RWD,six,156,5200,19,24,15750\nvolvo,gas,std,2,sedan,RWD,four,114,5400,24,28,15985\ntoyota,gas,std,4,hatchback,RWD,six,161,5200,19,24,15998\nbmw,gas,std,4,sedan,RWD,four,101,5800,23,29,16430\nalfa-romero,gas,std,4,convertible,RWD,four,111,5000,21,27,16500\nalfa-romero,gas,std,4,hatchback,RWD,six,154,5000,19,26,16500\nmercury,gas,turbo,4,hatchback,RWD,four,175,5000,19,24,16503\nvolvo,gas,std,2,wagon,RWD,four,114,5400,24,28,16515\ntoyota,gas,std,4,hatchback,RWD,six,161,5200,20,24,16558\npeugot,gas,std,2,sedan,RWD,four,97,5000,19,24,16630\npeugot,gas,std,2,wagon,RWD,four,95,5000,19,24,16695\nvolvo,gas,std,2,sedan,RWD,four,114,5400,23,28,16845\npeugot,diesel,turbo,2,sedan,RWD,four,95,4150,28,33,16900\nbmw,gas,std,2,sedan,RWD,four,101,5800,23,29,16925\npeugot,diesel,turbo,2,wagon,RWD,four,95,4150,25,25,17075\nnissan,gas,std,4,hatchback,RWD,six,160,5200,19,25,17199\naudi,gas,std,2,sedan,4WD,five,115,5500,18,22,17450\ntoyota,gas,std,4,convertible,RWD,four,116,4800,24,30,17669\naudi,gas,std,2,sedan,FWD,five,110,5500,19,25,17710\npeugot,diesel,turbo,2,sedan,RWD,four,95,4150,28,33,17950\npeugot,gas,turbo,2,sedan,RWD,four,142,5600,18,24,18150\nsaab,gas,turbo,4,hatchback,FWD,four,160,5500,19,26,18150\nmazda,gas,std,2,sedan,RWD,four,120,5000,19,27,18280\nmazda,diesel,std,2,sedan,RWD,four,72,4200,31,39,18344\nnissan,gas,std,4,hatchback,RWD,six,160,5200,19,25,18399\nvolvo,gas,turbo,2,sedan,RWD,four,162,5100,17,22,18420\nsaab,gas,turbo,2,sedan,FWD,four,160,5500,19,26,18620\naudi,gas,std,2,wagon,FWD,five,110,5500,19,25,18920\nvolvo,gas,turbo,2,wagon,RWD,four,162,5100,17,22,18950\nvolvo,gas,turbo,2,sedan,RWD,four,160,5300,19,25,19045\nnissan,gas,turbo,4,hatchback,RWD,six,200,5200,17,23,19699\nbmw,gas,std,4,sedan,RWD,six,121,4250,21,28,20970\nbmw,gas,std,2,sedan,RWD,six,121,4250,21,28,21105\nvolvo,gas,std,2,sedan,RWD,six,134,5500,18,23,21485\nporsche,gas,std,4,hatchback,RWD,four,143,5500,19,27,22018\nvolvo,diesel,turbo,2,sedan,RWD,six,106,4800,26,27,22470\nvolvo,gas,turbo,2,sedan,RWD,four,114,5400,19,25,22625\naudi,gas,turbo,2,sedan,FWD,five,140,5500,17,20,23875\nbmw,gas,std,2,sedan,RWD,six,121,4250,20,25,24565\nmercedes-benz,diesel,turbo,2,sedan,RWD,five,123,4350,22,25,25552\nmercedes-benz,diesel,turbo,4,hardtop,RWD,five,123,4350,22,25,28176\nmercedes-benz,diesel,turbo,2,wagon,RWD,five,123,4350,22,25,28248\nbmw,gas,std,2,sedan,RWD,six,182,5400,16,22,30760\nmercedes-benz,diesel,turbo,2,sedan,RWD,five,123,4350,22,25,31600\njaguar,gas,std,2,sedan,RWD,six,176,4750,15,19,32250\nporsche,gas,std,4,hardtop,RWD,six,207,5900,17,25,32528\nporsche,gas,std,4,hardtop,RWD,six,207,5900,17,25,34028\nmercedes-benz,gas,std,2,sedan,RWD,eight,155,4750,16,18,34184\nmercedes-benz,gas,std,4,convertible,RWD,eight,155,4750,16,18,35056\njaguar,gas,std,2,sedan,RWD,six,176,4750,15,19,35550\njaguar,gas,std,4,sedan,RWD,twelve,262,5000,13,17,36000\nbmw,gas,std,2,sedan,RWD,six,182,5400,15,20,36880\nporsche,gas,std,4,convertible,RWD,six,207,5900,17,25,37028\nmercedes-benz,gas,std,2,sedan,RWD,eight,184,4500,14,16,40960\nbmw,gas,std,4,sedan,RWD,six,182,5400,16,22,41315\nmercedes-benz,gas,std,4,hardtop,RWD,eight,184,4500,14,16,45400\n",
       "datasetInfos": [],
       "metadata": {},
       "removedWidgets": [],
       "type": "ansi"
      }
     },
     "output_type": "display_data"
    }
   ],
   "source": [
    "def cleanRDD(autoStr):\n",
    "  if isinstance(autoStr,int):\n",
    "    return autoStr\n",
    "  attList = autoStr.split(\",\")\n",
    "  if attList[3] != \"DOORS\":\n",
    "    if attList[3] != \"two\":\n",
    "      attList[3]=\"2\"\n",
    "    else :\n",
    "      attList[3]=\"4\"\n",
    "  attList[5] = attList[5].upper()\n",
    "  return \",\".join(attList)\n",
    "\n",
    "cleanedData = autoData.map(cleanRDD)\n",
    "for i in cleanedData.collect():\n",
    "  print(i)"
   ]
  },
  {
   "cell_type": "code",
   "execution_count": 0,
   "metadata": {
    "application/vnd.databricks.v1+cell": {
     "inputWidgets": {},
     "nuid": "91d5a4ba-f8af-4fc9-aff2-7c352811ce45",
     "showTitle": false,
     "title": ""
    }
   },
   "outputs": [
    {
     "data": {
      "text/html": [
       "<style scoped>\n",
       "  .ansiout {\n",
       "    display: block;\n",
       "    unicode-bidi: embed;\n",
       "    white-space: pre-wrap;\n",
       "    word-wrap: break-word;\n",
       "    word-break: break-all;\n",
       "    font-family: \"Source Code Pro\", \"Menlo\", monospace;;\n",
       "    font-size: 13px;\n",
       "    color: #555;\n",
       "    margin-left: 4px;\n",
       "    line-height: 19px;\n",
       "  }\n",
       "</style>"
      ]
     },
     "metadata": {
      "application/vnd.databricks.v1+output": {
       "arguments": {},
       "data": "",
       "errorSummary": "",
       "errorTraceType": null,
       "metadata": {},
       "type": "ipynbError"
      }
     },
     "output_type": "display_data"
    }
   ],
   "source": []
  }
 ],
 "metadata": {
  "application/vnd.databricks.v1+notebook": {
   "dashboards": [],
   "language": "python",
   "notebookMetadata": {
    "pythonIndentUnit": 2
   },
   "notebookName": "PySpark_Operations",
   "notebookOrigID": 2520799028948742,
   "widgets": {}
  },
  "kernelspec": {
   "display_name": "Python 3",
   "language": "python",
   "name": "python3"
  },
  "language_info": {
   "codemirror_mode": {
    "name": "ipython",
    "version": 3
   },
   "file_extension": ".py",
   "mimetype": "text/x-python",
   "name": "python",
   "nbconvert_exporter": "python",
   "pygments_lexer": "ipython3",
   "version": "3.8.3"
  }
 },
 "nbformat": 4,
 "nbformat_minor": 1
}
