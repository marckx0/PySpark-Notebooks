{
 "cells": [
  {
   "cell_type": "code",
   "execution_count": 1,
   "id": "a369701b",
   "metadata": {},
   "outputs": [],
   "source": [
    "import os\n",
    "os.environ[\"JAVA_HOME\"] = \"/usr/lib/jvm/java-11-openjdk-amd64\"\n",
    "os.environ[\"SPARK_HOME\"] = \"/home/administrador/.conda/envs/pyspark/lib/python3.7/site-packages/pyspark\""
   ]
  },
  {
   "cell_type": "code",
   "execution_count": 2,
   "id": "c4ec778a",
   "metadata": {},
   "outputs": [],
   "source": [
    "import findspark\n",
    "findspark.init()# SPARK_HOME\n",
    "from pyspark.sql import SparkSession\n",
    "SpSession = SparkSession.builder.master(\"local[*]\").getOrCreate()"
   ]
  },
  {
   "cell_type": "code",
   "execution_count": 3,
   "id": "df5e751d",
   "metadata": {},
   "outputs": [],
   "source": [
    "#Obtener el   Spark Context del Spark Session    \n",
    "SpContext = SpSession.sparkContext\n",
    "from pyspark.sql import SQLContext\n",
    "sqlContext = SQLContext(SpContext)"
   ]
  },
  {
   "cell_type": "code",
   "execution_count": null,
   "id": "e70d649b",
   "metadata": {},
   "outputs": [],
   "source": []
  }
 ],
 "metadata": {
  "kernelspec": {
   "display_name": "pyspark_env",
   "language": "python",
   "name": "pyspark"
  },
  "language_info": {
   "codemirror_mode": {
    "name": "ipython",
    "version": 3
   },
   "file_extension": ".py",
   "mimetype": "text/x-python",
   "name": "python",
   "nbconvert_exporter": "python",
   "pygments_lexer": "ipython3",
   "version": "3.7.0"
  }
 },
 "nbformat": 4,
 "nbformat_minor": 5
}
