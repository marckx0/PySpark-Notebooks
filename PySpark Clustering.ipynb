{
 "cells": [
  {
   "cell_type": "code",
   "execution_count": 1,
   "metadata": {},
   "outputs": [],
   "source": [
    "#sc.stop()"
   ]
  },
  {
   "cell_type": "code",
   "execution_count": 2,
   "metadata": {},
   "outputs": [],
   "source": [
    "from pyspark.sql import SparkSession\n",
    "from pyspark import SparkContext\n",
    "\n",
    "spark = SparkSession\\\n",
    "    .builder\\\n",
    "    .master(\"local[4]\")\\\n",
    "    .appName(\"MLib Clustering\")\\\n",
    "    .getOrCreate()\n",
    "\n",
    "sc = spark.sparkContext"
   ]
  },
  {
   "cell_type": "code",
   "execution_count": 3,
   "metadata": {},
   "outputs": [
    {
     "data": {
      "text/plain": [
       "[('spark.driver.port', '34279'),\n",
       " ('spark.local.dir', '/home/marco/claseBigData/ProyectoBD/tmp'),\n",
       " ('spark.executor.id', 'driver'),\n",
       " ('spark.driver.memory', '16g'),\n",
       " ('spark.app.name', 'PySparkShell'),\n",
       " ('spark.driver.host', '192.168.3.5'),\n",
       " ('spark.app.startTime', '1638859438705'),\n",
       " ('spark.sql.catalogImplementation', 'hive'),\n",
       " ('spark.rdd.compress', 'True'),\n",
       " ('spark.serializer.objectStreamReset', '100'),\n",
       " ('spark.master', 'local[*]'),\n",
       " ('spark.submit.pyFiles', ''),\n",
       " ('spark.submit.deployMode', 'client'),\n",
       " ('spark.app.id', 'local-1638859439303'),\n",
       " ('spark.ui.showConsoleProgress', 'true')]"
      ]
     },
     "execution_count": 3,
     "metadata": {},
     "output_type": "execute_result"
    }
   ],
   "source": [
    "sc._conf.getAll()"
   ]
  },
  {
   "cell_type": "markdown",
   "metadata": {},
   "source": [
    "### Carga de Datos"
   ]
  },
  {
   "cell_type": "code",
   "execution_count": 4,
   "metadata": {},
   "outputs": [
    {
     "data": {
      "text/plain": [
       "['MAKE,FUELTYPE,ASPIRE,DOORS,BODY,DRIVE,CYLINDERS,HP,RPM,MPG-CITY,MPG-HWY,PRICE',\n",
       " 'subaru,gas,std,two,hatchback,fwd,four,69,4900,31,36,5118',\n",
       " 'chevrolet,gas,std,two,hatchback,fwd,three,48,5100,47,53,5151',\n",
       " 'mazda,gas,std,two,hatchback,fwd,four,68,5000,30,31,5195',\n",
       " 'toyota,gas,std,two,hatchback,fwd,four,62,4800,35,39,5348']"
      ]
     },
     "execution_count": 4,
     "metadata": {},
     "output_type": "execute_result"
    }
   ],
   "source": [
    "autoData = sc.textFile(\"clase/auto-data.csv\")\n",
    "autoData.cache()\n",
    "autoData.take(5)"
   ]
  },
  {
   "cell_type": "code",
   "execution_count": 5,
   "metadata": {},
   "outputs": [
    {
     "data": {
      "text/plain": [
       "197"
      ]
     },
     "execution_count": 5,
     "metadata": {},
     "output_type": "execute_result"
    }
   ],
   "source": [
    "# Eliminar cabeceras\n",
    "firstLine = autoData.first()\n",
    "dataLines = autoData.filter(lambda l: l!=firstLine)\n",
    "dataLines.count()"
   ]
  },
  {
   "cell_type": "markdown",
   "metadata": {},
   "source": [
    "### Preprocesamiento de datos"
   ]
  },
  {
   "cell_type": "code",
   "execution_count": 6,
   "metadata": {},
   "outputs": [
    {
     "name": "stdout",
     "output_type": "stream",
     "text": [
      "+-----+----+----+------+----+\n",
      "|DOORS|BODY|  HP|   RPM| MPG|\n",
      "+-----+----+----+------+----+\n",
      "|  1.0| 2.0|69.0|4900.0|31.0|\n",
      "|  1.0| 2.0|48.0|5100.0|47.0|\n",
      "|  1.0| 2.0|68.0|5000.0|30.0|\n",
      "|  1.0| 2.0|62.0|4800.0|35.0|\n",
      "|  1.0| 2.0|68.0|5500.0|37.0|\n",
      "|  1.0| 2.0|60.0|5500.0|38.0|\n",
      "|  1.0| 1.0|69.0|5200.0|31.0|\n",
      "|  1.0| 2.0|68.0|5500.0|37.0|\n",
      "|  1.0| 2.0|68.0|5500.0|37.0|\n",
      "|  1.0| 2.0|68.0|5000.0|31.0|\n",
      "|  1.0| 2.0|68.0|5500.0|31.0|\n",
      "|  2.0| 2.0|68.0|5500.0|31.0|\n",
      "|  2.0| 2.0|68.0|5500.0|31.0|\n",
      "|  1.0| 2.0|70.0|5400.0|38.0|\n",
      "|  1.0| 2.0|62.0|4800.0|31.0|\n",
      "|  1.0| 2.0|68.0|5500.0|31.0|\n",
      "|  1.0| 2.0|58.0|4800.0|49.0|\n",
      "|  2.0| 2.0|62.0|4800.0|31.0|\n",
      "|  1.0| 2.0|76.0|6000.0|30.0|\n",
      "|  2.0| 1.0|70.0|5400.0|38.0|\n",
      "+-----+----+----+------+----+\n",
      "only showing top 20 rows\n",
      "\n"
     ]
    }
   ],
   "source": [
    "from pyspark.sql import Row\n",
    "\n",
    "import math\n",
    "from pyspark.ml.linalg import Vectors\n",
    "\n",
    "# Convertir a un vector\n",
    "def transformToNumeric(inputStr):\n",
    "    attList = inputStr.split(\",\")\n",
    "    \n",
    "    doors = 1.0 if attList[3] == \"two\" else 2.0\n",
    "    body = 1.0 if attList[4] == \"sedan\" else 2.0\n",
    "    \n",
    "    # Filtrar las columnas innecesarias\n",
    "    values = Row(DOORS = doors,\\\n",
    "                BODY = float(body),\\\n",
    "                HP = float(attList[7]),\\\n",
    "                RPM = float(attList[8]),\\\n",
    "                MPG = float(attList[9]))\n",
    "    \n",
    "    return values\n",
    "\n",
    "autoMap = dataLines.map(transformToNumeric)\n",
    "autoMap.persist()\n",
    "autoMap.collect()\n",
    "\n",
    "# Infiere el esquema y registra el dataframe como tabla\n",
    "autoDf = spark.createDataFrame(autoMap)\n",
    "autoDf.show()"
   ]
  },
  {
   "cell_type": "code",
   "execution_count": 7,
   "metadata": {},
   "outputs": [],
   "source": [
    "# Centrado y escalado\n",
    "\n",
    "summStats = autoDf.describe().toPandas()\n",
    "meanValues = summStats.iloc[1,1:5].values.tolist()\n",
    "stdValues = summStats.iloc[2,1:5].values.tolist()\n",
    "\n",
    "# Colocamos estos valores en una variable de difusion\n",
    "bcMeans = sc.broadcast(meanValues)\n",
    "bcStdDev = sc.broadcast(stdValues)"
   ]
  },
  {
   "cell_type": "code",
   "execution_count": 8,
   "metadata": {},
   "outputs": [
    {
     "name": "stdout",
     "output_type": "stream",
     "text": [
      "+-------+-------------------+------------------+------------------+------------------+-----------------+\n",
      "|summary|              DOORS|              BODY|                HP|               RPM|              MPG|\n",
      "+-------+-------------------+------------------+------------------+------------------+-----------------+\n",
      "|  count|                197|               197|               197|               197|              197|\n",
      "|   mean| 1.5685279187817258| 1.532994923857868|103.60406091370558|5118.0203045685275|25.15228426395939|\n",
      "| stddev|0.49654352778167493|0.5001812579359883|37.639205349518356|481.03591405011446|6.437862917085915|\n",
      "|    min|                1.0|               1.0|              48.0|            4150.0|             13.0|\n",
      "|    max|                2.0|               2.0|             262.0|            6600.0|             49.0|\n",
      "+-------+-------------------+------------------+------------------+------------------+-----------------+\n",
      "\n"
     ]
    }
   ],
   "source": [
    "autoDf.describe().show()"
   ]
  },
  {
   "cell_type": "code",
   "execution_count": 9,
   "metadata": {},
   "outputs": [],
   "source": [
    "def centerAndScale(inRow):\n",
    "    global bcMeans\n",
    "    global bcStdDev\n",
    "    \n",
    "    meanArray = bcMeans.value\n",
    "    stdArray = bcStdDev.value\n",
    "    \n",
    "    retArray = []\n",
    "    for i in range(len(meanArray)):\n",
    "        retArray.append((float(inRow[i])-float(meanArray[i]))/float(stdArray[i]))\n",
    "        \n",
    "    return Vectors.dense(retArray)"
   ]
  },
  {
   "cell_type": "code",
   "execution_count": 10,
   "metadata": {},
   "outputs": [
    {
     "data": {
      "text/plain": [
       "[DenseVector([-1.145, 0.9337, -0.9194, -0.4532]),\n",
       " DenseVector([-1.145, 0.9337, -1.4773, -0.0375]),\n",
       " DenseVector([-1.145, 0.9337, -0.9459, -0.2453]),\n",
       " DenseVector([-1.145, 0.9337, -1.1053, -0.6611]),\n",
       " DenseVector([-1.145, 0.9337, -0.9459, 0.7941]),\n",
       " DenseVector([-1.145, 0.9337, -1.1585, 0.7941]),\n",
       " DenseVector([-1.145, -1.0656, -0.9194, 0.1704]),\n",
       " DenseVector([-1.145, 0.9337, -0.9459, 0.7941]),\n",
       " DenseVector([-1.145, 0.9337, -0.9459, 0.7941]),\n",
       " DenseVector([-1.145, 0.9337, -0.9459, -0.2453]),\n",
       " DenseVector([-1.145, 0.9337, -0.9459, 0.7941]),\n",
       " DenseVector([0.869, 0.9337, -0.9459, 0.7941]),\n",
       " DenseVector([0.869, 0.9337, -0.9459, 0.7941]),\n",
       " DenseVector([-1.145, 0.9337, -0.8928, 0.5862]),\n",
       " DenseVector([-1.145, 0.9337, -1.1053, -0.6611]),\n",
       " DenseVector([-1.145, 0.9337, -0.9459, 0.7941]),\n",
       " DenseVector([-1.145, 0.9337, -1.2116, -0.6611]),\n",
       " DenseVector([0.869, 0.9337, -1.1053, -0.6611]),\n",
       " DenseVector([-1.145, 0.9337, -0.7334, 1.8335]),\n",
       " DenseVector([0.869, -1.0656, -0.8928, 0.5862]),\n",
       " DenseVector([-1.145, -1.0656, -0.9194, 0.1704]),\n",
       " DenseVector([-1.145, 0.9337, -0.9459, 0.7941]),\n",
       " DenseVector([0.869, -1.0656, -0.9459, 0.7941]),\n",
       " DenseVector([0.869, -1.0656, -0.9459, 0.7941]),\n",
       " DenseVector([0.869, -1.0656, -0.9459, -0.2453]),\n",
       " DenseVector([0.869, -1.0656, -0.6802, -0.6611]),\n",
       " DenseVector([-1.145, 0.9337, -0.9459, -0.2453]),\n",
       " DenseVector([0.869, -1.0656, -0.9194, 0.1704]),\n",
       " DenseVector([-1.145, 0.9337, -0.7334, 1.8335]),\n",
       " DenseVector([0.869, 0.9337, -1.1053, -0.6611]),\n",
       " DenseVector([0.869, -1.0656, -0.8928, -0.6611]),\n",
       " DenseVector([0.869, -1.0656, -0.4146, -0.2453]),\n",
       " DenseVector([-1.145, 0.9337, -0.8131, -1.4927]),\n",
       " DenseVector([-1.145, -1.0656, -1.2913, -0.6611]),\n",
       " DenseVector([0.869, -1.0656, -0.574, -0.6611]),\n",
       " DenseVector([-1.145, 0.9337, -0.7334, 1.8335]),\n",
       " DenseVector([0.869, 0.9337, -0.8928, -0.6611]),\n",
       " DenseVector([0.869, -1.0656, -0.7334, 1.8335]),\n",
       " DenseVector([0.869, 0.9337, -0.7334, 1.8335]),\n",
       " DenseVector([-1.145, -1.0656, -0.9194, 0.1704]),\n",
       " DenseVector([0.869, 0.9337, -0.9194, 0.1704]),\n",
       " DenseVector([0.869, -1.0656, -0.9459, -0.2453]),\n",
       " DenseVector([0.869, 0.9337, -0.574, -0.6611]),\n",
       " DenseVector([0.869, -1.0656, -0.9194, 0.1704]),\n",
       " DenseVector([-1.145, 0.9337, -0.8131, -1.4927]),\n",
       " DenseVector([0.869, -1.0656, -0.9459, 0.7941]),\n",
       " DenseVector([0.869, -1.0656, -0.9459, 0.7941]),\n",
       " DenseVector([-1.145, 0.9337, -0.0426, 0.7941]),\n",
       " DenseVector([0.869, -1.0656, -0.8928, -0.6611]),\n",
       " DenseVector([0.869, -1.0656, -0.574, -1.4927]),\n",
       " DenseVector([-1.145, -1.0656, -1.371, -0.6611]),\n",
       " DenseVector([0.869, 0.9337, -1.2647, -1.2848]),\n",
       " DenseVector([-1.145, 0.9337, -0.9194, 0.1704]),\n",
       " DenseVector([-1.145, 0.9337, -0.4677, 1.4177]),\n",
       " DenseVector([0.869, 0.9337, -1.1053, -0.6611]),\n",
       " DenseVector([0.869, -1.0656, -1.2647, -1.2848]),\n",
       " DenseVector([-1.145, 0.9337, -0.0426, 0.7941]),\n",
       " DenseVector([-1.145, 0.9337, -0.0426, 0.7941]),\n",
       " DenseVector([-1.145, -1.0656, -0.4943, 0.2744]),\n",
       " DenseVector([0.869, -1.0656, -1.371, -0.6611]),\n",
       " DenseVector([0.869, 0.9337, -0.9194, 0.1704]),\n",
       " DenseVector([0.869, 0.9337, -0.574, -0.6611]),\n",
       " DenseVector([-1.145, -1.0656, -0.8928, -0.6611]),\n",
       " DenseVector([0.869, -1.0656, -0.4146, -0.2453]),\n",
       " DenseVector([0.869, -1.0656, -0.4943, 0.2744]),\n",
       " DenseVector([-1.145, 0.9337, -0.8928, -0.6611]),\n",
       " DenseVector([-1.145, 0.9337, -0.9194, 0.1704]),\n",
       " DenseVector([0.869, 0.9337, -0.8928, -0.6611]),\n",
       " DenseVector([-1.145, 0.9337, 0.3293, -0.6611]),\n",
       " DenseVector([0.869, -1.0656, -0.5208, -0.6611]),\n",
       " DenseVector([0.869, -1.0656, -0.4943, 0.2744]),\n",
       " DenseVector([-1.145, 0.9337, -0.4146, -0.2453]),\n",
       " DenseVector([0.869, 0.9337, -1.1053, -0.6611]),\n",
       " DenseVector([0.869, -1.0656, -0.4677, 1.4177]),\n",
       " DenseVector([-1.145, 0.9337, -0.5208, -0.6611]),\n",
       " DenseVector([0.869, 0.9337, -0.4146, -0.2453]),\n",
       " DenseVector([0.869, 0.9337, -0.4146, -0.2453]),\n",
       " DenseVector([0.869, -1.0656, -0.3083, -1.9084]),\n",
       " DenseVector([0.869, 0.9337, -0.1755, 0.1704]),\n",
       " DenseVector([-1.145, 0.9337, -0.4677, 1.4177]),\n",
       " DenseVector([0.869, -1.0656, -0.574, -0.6611]),\n",
       " DenseVector([0.869, -1.0656, -0.8928, -0.6611]),\n",
       " DenseVector([0.869, -1.0656, 0.3293, 0.7941]),\n",
       " DenseVector([0.869, -1.0656, 0.3293, 0.7941]),\n",
       " DenseVector([-1.145, -1.0656, 0.2231, 3.0808]),\n",
       " DenseVector([0.869, -1.0656, -0.9459, -1.2848]),\n",
       " DenseVector([-1.145, 0.9337, 0.2231, 3.0808]),\n",
       " DenseVector([0.869, -1.0656, -0.1755, 0.1704]),\n",
       " DenseVector([-1.145, 0.9337, 0.3293, -0.6611]),\n",
       " DenseVector([-1.145, 0.9337, 0.3293, 0.7941]),\n",
       " DenseVector([0.869, -1.0656, -0.2552, 0.1704]),\n",
       " DenseVector([-1.145, 0.9337, -0.3614, 0.7941]),\n",
       " DenseVector([0.869, 0.9337, -0.3083, -1.9084]),\n",
       " DenseVector([-1.145, 0.9337, 0.3293, -0.6611]),\n",
       " DenseVector([0.869, -1.0656, -0.0958, 0.7941]),\n",
       " DenseVector([0.869, 0.9337, -0.2552, 0.1704]),\n",
       " DenseVector([0.869, -1.0656, -0.5208, -0.6611]),\n",
       " DenseVector([0.869, -1.0656, -0.4677, 1.4177]),\n",
       " DenseVector([-1.145, -1.0656, -0.0958, 0.7941]),\n",
       " DenseVector([-1.145, 0.9337, -0.5208, -0.6611]),\n",
       " DenseVector([0.869, -1.0656, -0.8131, -1.2848]),\n",
       " DenseVector([0.869, -1.0656, -0.3083, -1.9084]),\n",
       " DenseVector([-1.145, 0.9337, -0.0692, 1.8335]),\n",
       " DenseVector([-1.145, 0.9337, -0.3614, -0.2453]),\n",
       " DenseVector([-1.145, 0.9337, 0.3293, -0.6611]),\n",
       " DenseVector([0.869, 0.9337, -0.5208, -0.6611]),\n",
       " DenseVector([0.869, 0.9337, -0.3083, -1.9084]),\n",
       " DenseVector([0.869, -1.0656, 0.1965, -0.6611]),\n",
       " DenseVector([-1.145, 0.9337, 0.3293, -0.6611]),\n",
       " DenseVector([-1.145, 0.9337, -0.3614, 0.7941]),\n",
       " DenseVector([0.869, 0.9337, 0.1965, -0.6611]),\n",
       " DenseVector([-1.145, 0.9337, -0.0692, 1.8335]),\n",
       " DenseVector([-1.145, 0.9337, 0.1699, 0.2744]),\n",
       " DenseVector([0.869, -1.0656, -0.1755, -0.2453]),\n",
       " DenseVector([0.869, -1.0656, 0.1699, 0.2744]),\n",
       " DenseVector([0.869, 0.9337, -0.4146, 0.7941]),\n",
       " DenseVector([0.869, 0.9337, -0.1755, -0.2453]),\n",
       " DenseVector([-1.145, 0.9337, 1.0998, -0.2453]),\n",
       " DenseVector([-1.145, 0.9337, 1.0998, -0.2453]),\n",
       " DenseVector([0.869, -1.0656, 0.2762, 0.5862]),\n",
       " DenseVector([0.869, -1.0656, -0.0692, 1.4177]),\n",
       " DenseVector([-1.145, 0.9337, 1.0998, -0.2453]),\n",
       " DenseVector([0.869, -1.0656, -0.2286, -2.0124]),\n",
       " DenseVector([0.869, -1.0656, 0.1699, 0.7941]),\n",
       " DenseVector([0.869, 0.9337, 0.2762, 0.5862]),\n",
       " DenseVector([-1.145, 0.9337, 0.1965, -0.2453]),\n",
       " DenseVector([0.869, -1.0656, 1.2858, 0.1704]),\n",
       " DenseVector([0.869, -1.0656, 1.2858, 0.1704]),\n",
       " DenseVector([-1.145, 0.9337, -0.0692, 1.8335]),\n",
       " DenseVector([0.869, -1.0656, -0.9459, -1.2848]),\n",
       " DenseVector([0.869, 0.9337, -0.2286, -2.0124]),\n",
       " DenseVector([0.869, -1.0656, -0.0426, 0.7941]),\n",
       " DenseVector([0.869, 0.9337, 1.2858, 0.1704]),\n",
       " DenseVector([-1.145, 0.9337, 1.0998, -0.2453]),\n",
       " DenseVector([-1.145, 0.9337, 1.0998, -0.2453]),\n",
       " DenseVector([-1.145, 0.9337, 0.1699, 0.2744]),\n",
       " DenseVector([-1.145, -1.0656, 0.1699, 0.7941]),\n",
       " DenseVector([0.869, -1.0656, 0.1699, 0.2744]),\n",
       " DenseVector([0.869, -1.0656, -0.2286, -0.2453]),\n",
       " DenseVector([-1.145, 0.9337, 0.8341, 1.8335]),\n",
       " DenseVector([0.869, -1.0656, 1.3921, 0.1704]),\n",
       " DenseVector([0.869, 0.9337, 1.3921, 0.1704]),\n",
       " DenseVector([0.869, -1.0656, 0.2762, 0.5862]),\n",
       " DenseVector([-1.145, 0.9337, 1.5249, 0.1704]),\n",
       " DenseVector([-1.145, -1.0656, -0.0692, 1.4177]),\n",
       " DenseVector([-1.145, 0.9337, 0.1965, -0.2453]),\n",
       " DenseVector([-1.145, 0.9337, 1.3389, -0.2453]),\n",
       " DenseVector([-1.145, 0.9337, 1.8969, -0.2453]),\n",
       " DenseVector([0.869, 0.9337, 0.2762, 0.5862]),\n",
       " DenseVector([-1.145, 0.9337, 1.5249, 0.1704]),\n",
       " DenseVector([0.869, -1.0656, -0.1755, -0.2453]),\n",
       " DenseVector([0.869, 0.9337, -0.2286, -0.2453]),\n",
       " DenseVector([0.869, -1.0656, 0.2762, 0.5862]),\n",
       " DenseVector([0.869, -1.0656, -0.2286, -2.0124]),\n",
       " DenseVector([0.869, -1.0656, -0.0692, 1.4177]),\n",
       " DenseVector([0.869, 0.9337, -0.2286, -2.0124]),\n",
       " DenseVector([-1.145, 0.9337, 1.4983, 0.1704]),\n",
       " DenseVector([0.869, -1.0656, 0.3028, 0.7941]),\n",
       " DenseVector([-1.145, 0.9337, 0.3293, -0.6611]),\n",
       " DenseVector([0.869, -1.0656, 0.1699, 0.7941]),\n",
       " DenseVector([0.869, -1.0656, -0.2286, -2.0124]),\n",
       " DenseVector([0.869, -1.0656, 1.0201, 1.002]),\n",
       " DenseVector([-1.145, 0.9337, 1.4983, 0.7941]),\n",
       " DenseVector([0.869, -1.0656, 0.4356, -0.2453]),\n",
       " DenseVector([0.869, -1.0656, -0.8397, -1.9084]),\n",
       " DenseVector([-1.145, 0.9337, 1.4983, 0.1704]),\n",
       " DenseVector([0.869, -1.0656, 1.5515, -0.0375]),\n",
       " DenseVector([0.869, -1.0656, 1.4983, 0.7941]),\n",
       " DenseVector([0.869, 0.9337, 0.1699, 0.7941]),\n",
       " DenseVector([0.869, 0.9337, 1.5515, -0.0375]),\n",
       " DenseVector([0.869, -1.0656, 1.4983, 0.3783]),\n",
       " DenseVector([-1.145, 0.9337, 2.5611, 0.1704]),\n",
       " DenseVector([-1.145, -1.0656, 0.4622, -1.8045]),\n",
       " DenseVector([0.869, -1.0656, 0.4622, -1.8045]),\n",
       " DenseVector([0.869, -1.0656, 0.8076, 0.7941]),\n",
       " DenseVector([-1.145, 0.9337, 1.0467, 0.7941]),\n",
       " DenseVector([0.869, -1.0656, 0.0637, -0.6611]),\n",
       " DenseVector([0.869, -1.0656, 0.2762, 0.5862]),\n",
       " DenseVector([0.869, -1.0656, 0.967, 0.7941]),\n",
       " DenseVector([0.869, -1.0656, 0.4622, -1.8045]),\n",
       " DenseVector([0.869, -1.0656, 0.5153, -1.5966]),\n",
       " DenseVector([-1.145, 0.9337, 0.5153, -1.5966]),\n",
       " DenseVector([0.869, 0.9337, 0.5153, -1.5966]),\n",
       " DenseVector([0.869, -1.0656, 2.0828, 0.5862]),\n",
       " DenseVector([0.869, -1.0656, 0.5153, -1.5966]),\n",
       " DenseVector([0.869, -1.0656, 1.9234, -0.7651]),\n",
       " DenseVector([-1.145, 0.9337, 2.747, 1.6256]),\n",
       " DenseVector([-1.145, 0.9337, 2.747, 1.6256]),\n",
       " DenseVector([0.869, -1.0656, 1.3655, -0.7651]),\n",
       " DenseVector([-1.145, 0.9337, 1.3655, -0.7651]),\n",
       " DenseVector([0.869, -1.0656, 1.9234, -0.7651]),\n",
       " DenseVector([-1.145, -1.0656, 4.2083, -0.2453]),\n",
       " DenseVector([0.869, -1.0656, 2.0828, 0.5862]),\n",
       " DenseVector([-1.145, 0.9337, 2.747, 1.6256]),\n",
       " DenseVector([0.869, -1.0656, 2.136, -1.2848]),\n",
       " DenseVector([-1.145, -1.0656, 2.0828, 0.5862]),\n",
       " DenseVector([-1.145, 0.9337, 2.136, -1.2848])]"
      ]
     },
     "execution_count": 10,
     "metadata": {},
     "output_type": "execute_result"
    }
   ],
   "source": [
    "csAuto = autoDf.rdd.map(centerAndScale)\n",
    "csAuto.collect()"
   ]
  },
  {
   "cell_type": "code",
   "execution_count": 11,
   "metadata": {},
   "outputs": [
    {
     "name": "stdout",
     "output_type": "stream",
     "text": [
      "+---------------------------------------------------------------------------------+\n",
      "|features                                                                         |\n",
      "+---------------------------------------------------------------------------------+\n",
      "|[-1.1449709581789205,0.9336716814805123,-0.9193621542317812,-0.4532308258085988] |\n",
      "|[-1.1449709581789205,0.9336716814805123,-1.477291042607442,-0.03746145358837007] |\n",
      "|[-1.1449709581789205,0.9336716814805123,-0.9459301965353841,-0.24534613969848443]|\n",
      "|[-1.1449709581789205,0.9336716814805123,-1.1053384503570014,-0.6611155119187132] |\n",
      "|[-1.1449709581789205,0.9336716814805123,-0.9459301965353841,0.7940772908520874]  |\n",
      "|[-1.1449709581789205,0.9336716814805123,-1.1584745349642074,0.7940772908520874]  |\n",
      "|[-1.1449709581789205,-1.0656035495158018,-0.9193621542317812,0.1704232325217443] |\n",
      "|[-1.1449709581789205,0.9336716814805123,-0.9459301965353841,0.7940772908520874]  |\n",
      "|[-1.1449709581789205,0.9336716814805123,-0.9459301965353841,0.7940772908520874]  |\n",
      "|[-1.1449709581789205,0.9336716814805123,-0.9459301965353841,-0.24534613969848443]|\n",
      "+---------------------------------------------------------------------------------+\n",
      "only showing top 10 rows\n",
      "\n"
     ]
    }
   ],
   "source": [
    "# Crear un marco de datos de Spark\n",
    "autoRows = csAuto.map(lambda f:Row(features=f))\n",
    "autoDf = spark.createDataFrame(autoRows)\n",
    "\n",
    "autoDf.select(\"features\").show(10, truncate = False)"
   ]
  },
  {
   "cell_type": "markdown",
   "metadata": {},
   "source": [
    "### Aplicar el Algoritmo de Cluster"
   ]
  },
  {
   "cell_type": "code",
   "execution_count": 12,
   "metadata": {},
   "outputs": [
    {
     "name": "stdout",
     "output_type": "stream",
     "text": [
      "+---------------------------------------------------------------------------------+----------+\n",
      "|features                                                                         |prediction|\n",
      "+---------------------------------------------------------------------------------+----------+\n",
      "|[-1.1449709581789205,0.9336716814805123,-0.9193621542317812,-0.4532308258085988] |0         |\n",
      "|[-1.1449709581789205,0.9336716814805123,-1.477291042607442,-0.03746145358837007] |0         |\n",
      "|[-1.1449709581789205,0.9336716814805123,-0.9459301965353841,-0.24534613969848443]|0         |\n",
      "|[-1.1449709581789205,0.9336716814805123,-1.1053384503570014,-0.6611155119187132] |0         |\n",
      "|[-1.1449709581789205,0.9336716814805123,-0.9459301965353841,0.7940772908520874]  |0         |\n",
      "|[-1.1449709581789205,0.9336716814805123,-1.1584745349642074,0.7940772908520874]  |0         |\n",
      "|[-1.1449709581789205,-1.0656035495158018,-0.9193621542317812,0.1704232325217443] |0         |\n",
      "|[-1.1449709581789205,0.9336716814805123,-0.9459301965353841,0.7940772908520874]  |0         |\n",
      "|[-1.1449709581789205,0.9336716814805123,-0.9459301965353841,0.7940772908520874]  |0         |\n",
      "|[-1.1449709581789205,0.9336716814805123,-0.9459301965353841,-0.24534613969848443]|0         |\n",
      "+---------------------------------------------------------------------------------+----------+\n",
      "only showing top 10 rows\n",
      "\n"
     ]
    }
   ],
   "source": [
    "from pyspark.ml.clustering import KMeans\n",
    "Kmeans = KMeans(k=3,seed=1)\n",
    "model = Kmeans.fit(autoDf)\n",
    "predictions = model.transform(autoDf)\n",
    "predictions.show(10,truncate = False)"
   ]
  },
  {
   "cell_type": "code",
   "execution_count": 13,
   "metadata": {},
   "outputs": [
    {
     "name": "stdout",
     "output_type": "stream",
     "text": [
      "     0         1         2         3         4\n",
      "0    0 -1.144971  0.933672 -0.919362 -0.453231\n",
      "1    0 -1.144971  0.933672 -1.477291 -0.037461\n",
      "2    0 -1.144971  0.933672 -0.945930 -0.245346\n",
      "3    0 -1.144971  0.933672 -1.105338 -0.661116\n",
      "4    0 -1.144971  0.933672 -0.945930  0.794077\n",
      "..  ..       ...       ...       ...       ...\n",
      "192  1  0.868951 -1.065604  2.082827  0.586193\n",
      "193  2 -1.144971  0.933672  2.747028  1.625616\n",
      "194  1  0.868951 -1.065604  2.135963 -1.284770\n",
      "195  2 -1.144971 -1.065604  2.082827  0.586193\n",
      "196  2 -1.144971  0.933672  2.135963 -1.284770\n",
      "\n",
      "[197 rows x 5 columns]\n"
     ]
    }
   ],
   "source": [
    "# Plot de los resultados en un scatter plot\n",
    "import pandas as pd\n",
    "\n",
    "def unstripData(instr):\n",
    "    return (instr[\"prediction\"],instr[\"features\"][0],\\\n",
    "           instr[\"features\"][1],instr[\"features\"][2],instr[\"features\"][3])\n",
    "\n",
    "unstripped = predictions.rdd.map(unstripData)\n",
    "predList = unstripped.collect()\n",
    "predPd = pd.DataFrame(predList)\n",
    "print(predPd)"
   ]
  },
  {
   "cell_type": "code",
   "execution_count": 14,
   "metadata": {},
   "outputs": [
    {
     "data": {
      "text/plain": [
       "<matplotlib.collections.PathCollection at 0x7fa39d98db50>"
      ]
     },
     "execution_count": 14,
     "metadata": {},
     "output_type": "execute_result"
    },
    {
     "data": {
      "image/png": "[encoded data removed]",
      "text/plain": [
       "<Figure size 432x288 with 1 Axes>"
      ]
     },
     "metadata": {
      "needs_background": "light"
     },
     "output_type": "display_data"
    }
   ],
   "source": [
    "import matplotlib.pyplot as plt\n",
    "plt.cla()\n",
    "plt.scatter(predPd[3],predPd[4],c=predPd[0])"
   ]
  },
  {
   "cell_type": "code",
   "execution_count": 15,
   "metadata": {},
   "outputs": [],
   "source": [
    "sc.stop()"
   ]
  },
  {
   "cell_type": "code",
   "execution_count": 16,
   "metadata": {},
   "outputs": [
    {
     "name": "stdout",
     "output_type": "stream",
     "text": [
      "/home/marco/anaconda3/bin/python\n",
      "3.8.3 (default, Jul  2 2020, 16:21:59) \n",
      "[GCC 7.3.0]\n",
      "sys.version_info(major=3, minor=8, micro=3, releaselevel='final', serial=0)\n"
     ]
    }
   ],
   "source": [
    "import sys\n",
    "print(sys.executable)\n",
    "print(sys.version)\n",
    "print(sys.version_info)"
   ]
  }
 ],
 "metadata": {
  "kernelspec": {
   "display_name": "Python 3",
   "language": "python",
   "name": "python3"
  },
  "language_info": {
   "codemirror_mode": {
    "name": "ipython",
    "version": 3
   },
   "file_extension": ".py",
   "mimetype": "text/x-python",
   "name": "python",
   "nbconvert_exporter": "python",
   "pygments_lexer": "ipython3",
   "version": "3.8.3"
  }
 },
 "nbformat": 4,
 "nbformat_minor": 4
}
